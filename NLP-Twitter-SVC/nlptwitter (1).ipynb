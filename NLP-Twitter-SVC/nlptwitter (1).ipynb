{
  "nbformat": 4,
  "nbformat_minor": 0,
  "metadata": {
    "colab": {
      "provenance": []
    },
    "kernelspec": {
      "name": "python3",
      "display_name": "Python 3"
    },
    "language_info": {
      "name": "python"
    }
  },
  "cells": [
    {
      "cell_type": "code",
      "execution_count": 32,
      "metadata": {
        "id": "96QMSoooSEd9"
      },
      "outputs": [],
      "source": [
        "#importing Basic Libraries\n",
        "import numpy as np\n",
        "import pandas as pd\n",
        "import nltk\n",
        "import seaborn as sns\n",
        "import matplotlib.pyplot as plt\n",
        "from nltk.stem import WordNetLemmatizer\n",
        "import re"
      ]
    },
    {
      "cell_type": "code",
      "source": [
        "#Loading the dataset\n",
        "colnames=['id','social_media','output','comment_text']\n",
        "df=pd.read_csv(\"/content/twitter_validation.csv\",encoding=\"ISO-8859-1\",names=colnames,header=None)#here encoding is given for reading the special charecters\n",
        "df"
      ],
      "metadata": {
        "colab": {
          "base_uri": "https://localhost:8080/",
          "height": 424
        },
        "id": "rnliLegbTQaD",
        "outputId": "c7eeced4-864f-40b4-a62e-fa064e10e18c"
      },
      "execution_count": 33,
      "outputs": [
        {
          "output_type": "execute_result",
          "data": {
            "text/plain": [
              "       id         social_media      output  \\\n",
              "0    3364             Facebook  Irrelevant   \n",
              "1     352               Amazon     Neutral   \n",
              "2    8312            Microsoft    Negative   \n",
              "3    4371                CS-GO    Negative   \n",
              "4    4433               Google     Neutral   \n",
              "..    ...                  ...         ...   \n",
              "995  4891  GrandTheftAuto(GTA)  Irrelevant   \n",
              "996  4359                CS-GO  Irrelevant   \n",
              "997  2652          Borderlands    Positive   \n",
              "998  8069            Microsoft    Positive   \n",
              "999  6960      johnson&johnson     Neutral   \n",
              "\n",
              "                                          comment_text  \n",
              "0    I mentioned on Facebook that I was struggling ...  \n",
              "1    BBC News - Amazon boss Jeff Bezos rejects clai...  \n",
              "2    @Microsoft Why do I pay for WORD when it funct...  \n",
              "3    CSGO matchmaking is so full of closet hacking,...  \n",
              "4    Now the President is slapping Americans in the...  \n",
              "..                                                 ...  \n",
              "995  â­ï¸ Toronto is the arts and culture capital...  \n",
              "996  tHIS IS ACTUALLY A GOOD MOVE TOT BRING MORE VI...  \n",
              "997  Today sucked so itâs time to drink wine n pl...  \n",
              "998  Bought a fraction of Microsoft today. Small wins.  \n",
              "999  Johnson & Johnson to stop selling talc baby po...  \n",
              "\n",
              "[1000 rows x 4 columns]"
            ],
            "text/html": [
              "\n",
              "  <div id=\"df-45cc2cf3-409d-4674-89f8-3ac274b0bf00\">\n",
              "    <div class=\"colab-df-container\">\n",
              "      <div>\n",
              "<style scoped>\n",
              "    .dataframe tbody tr th:only-of-type {\n",
              "        vertical-align: middle;\n",
              "    }\n",
              "\n",
              "    .dataframe tbody tr th {\n",
              "        vertical-align: top;\n",
              "    }\n",
              "\n",
              "    .dataframe thead th {\n",
              "        text-align: right;\n",
              "    }\n",
              "</style>\n",
              "<table border=\"1\" class=\"dataframe\">\n",
              "  <thead>\n",
              "    <tr style=\"text-align: right;\">\n",
              "      <th></th>\n",
              "      <th>id</th>\n",
              "      <th>social_media</th>\n",
              "      <th>output</th>\n",
              "      <th>comment_text</th>\n",
              "    </tr>\n",
              "  </thead>\n",
              "  <tbody>\n",
              "    <tr>\n",
              "      <th>0</th>\n",
              "      <td>3364</td>\n",
              "      <td>Facebook</td>\n",
              "      <td>Irrelevant</td>\n",
              "      <td>I mentioned on Facebook that I was struggling ...</td>\n",
              "    </tr>\n",
              "    <tr>\n",
              "      <th>1</th>\n",
              "      <td>352</td>\n",
              "      <td>Amazon</td>\n",
              "      <td>Neutral</td>\n",
              "      <td>BBC News - Amazon boss Jeff Bezos rejects clai...</td>\n",
              "    </tr>\n",
              "    <tr>\n",
              "      <th>2</th>\n",
              "      <td>8312</td>\n",
              "      <td>Microsoft</td>\n",
              "      <td>Negative</td>\n",
              "      <td>@Microsoft Why do I pay for WORD when it funct...</td>\n",
              "    </tr>\n",
              "    <tr>\n",
              "      <th>3</th>\n",
              "      <td>4371</td>\n",
              "      <td>CS-GO</td>\n",
              "      <td>Negative</td>\n",
              "      <td>CSGO matchmaking is so full of closet hacking,...</td>\n",
              "    </tr>\n",
              "    <tr>\n",
              "      <th>4</th>\n",
              "      <td>4433</td>\n",
              "      <td>Google</td>\n",
              "      <td>Neutral</td>\n",
              "      <td>Now the President is slapping Americans in the...</td>\n",
              "    </tr>\n",
              "    <tr>\n",
              "      <th>...</th>\n",
              "      <td>...</td>\n",
              "      <td>...</td>\n",
              "      <td>...</td>\n",
              "      <td>...</td>\n",
              "    </tr>\n",
              "    <tr>\n",
              "      <th>995</th>\n",
              "      <td>4891</td>\n",
              "      <td>GrandTheftAuto(GTA)</td>\n",
              "      <td>Irrelevant</td>\n",
              "      <td>â­ï¸ Toronto is the arts and culture capital...</td>\n",
              "    </tr>\n",
              "    <tr>\n",
              "      <th>996</th>\n",
              "      <td>4359</td>\n",
              "      <td>CS-GO</td>\n",
              "      <td>Irrelevant</td>\n",
              "      <td>tHIS IS ACTUALLY A GOOD MOVE TOT BRING MORE VI...</td>\n",
              "    </tr>\n",
              "    <tr>\n",
              "      <th>997</th>\n",
              "      <td>2652</td>\n",
              "      <td>Borderlands</td>\n",
              "      <td>Positive</td>\n",
              "      <td>Today sucked so itâs time to drink wine n pl...</td>\n",
              "    </tr>\n",
              "    <tr>\n",
              "      <th>998</th>\n",
              "      <td>8069</td>\n",
              "      <td>Microsoft</td>\n",
              "      <td>Positive</td>\n",
              "      <td>Bought a fraction of Microsoft today. Small wins.</td>\n",
              "    </tr>\n",
              "    <tr>\n",
              "      <th>999</th>\n",
              "      <td>6960</td>\n",
              "      <td>johnson&amp;johnson</td>\n",
              "      <td>Neutral</td>\n",
              "      <td>Johnson &amp; Johnson to stop selling talc baby po...</td>\n",
              "    </tr>\n",
              "  </tbody>\n",
              "</table>\n",
              "<p>1000 rows × 4 columns</p>\n",
              "</div>\n",
              "      <button class=\"colab-df-convert\" onclick=\"convertToInteractive('df-45cc2cf3-409d-4674-89f8-3ac274b0bf00')\"\n",
              "              title=\"Convert this dataframe to an interactive table.\"\n",
              "              style=\"display:none;\">\n",
              "        \n",
              "  <svg xmlns=\"http://www.w3.org/2000/svg\" height=\"24px\"viewBox=\"0 0 24 24\"\n",
              "       width=\"24px\">\n",
              "    <path d=\"M0 0h24v24H0V0z\" fill=\"none\"/>\n",
              "    <path d=\"M18.56 5.44l.94 2.06.94-2.06 2.06-.94-2.06-.94-.94-2.06-.94 2.06-2.06.94zm-11 1L8.5 8.5l.94-2.06 2.06-.94-2.06-.94L8.5 2.5l-.94 2.06-2.06.94zm10 10l.94 2.06.94-2.06 2.06-.94-2.06-.94-.94-2.06-.94 2.06-2.06.94z\"/><path d=\"M17.41 7.96l-1.37-1.37c-.4-.4-.92-.59-1.43-.59-.52 0-1.04.2-1.43.59L10.3 9.45l-7.72 7.72c-.78.78-.78 2.05 0 2.83L4 21.41c.39.39.9.59 1.41.59.51 0 1.02-.2 1.41-.59l7.78-7.78 2.81-2.81c.8-.78.8-2.07 0-2.86zM5.41 20L4 18.59l7.72-7.72 1.47 1.35L5.41 20z\"/>\n",
              "  </svg>\n",
              "      </button>\n",
              "      \n",
              "  <style>\n",
              "    .colab-df-container {\n",
              "      display:flex;\n",
              "      flex-wrap:wrap;\n",
              "      gap: 12px;\n",
              "    }\n",
              "\n",
              "    .colab-df-convert {\n",
              "      background-color: #E8F0FE;\n",
              "      border: none;\n",
              "      border-radius: 50%;\n",
              "      cursor: pointer;\n",
              "      display: none;\n",
              "      fill: #1967D2;\n",
              "      height: 32px;\n",
              "      padding: 0 0 0 0;\n",
              "      width: 32px;\n",
              "    }\n",
              "\n",
              "    .colab-df-convert:hover {\n",
              "      background-color: #E2EBFA;\n",
              "      box-shadow: 0px 1px 2px rgba(60, 64, 67, 0.3), 0px 1px 3px 1px rgba(60, 64, 67, 0.15);\n",
              "      fill: #174EA6;\n",
              "    }\n",
              "\n",
              "    [theme=dark] .colab-df-convert {\n",
              "      background-color: #3B4455;\n",
              "      fill: #D2E3FC;\n",
              "    }\n",
              "\n",
              "    [theme=dark] .colab-df-convert:hover {\n",
              "      background-color: #434B5C;\n",
              "      box-shadow: 0px 1px 3px 1px rgba(0, 0, 0, 0.15);\n",
              "      filter: drop-shadow(0px 1px 2px rgba(0, 0, 0, 0.3));\n",
              "      fill: #FFFFFF;\n",
              "    }\n",
              "  </style>\n",
              "\n",
              "      <script>\n",
              "        const buttonEl =\n",
              "          document.querySelector('#df-45cc2cf3-409d-4674-89f8-3ac274b0bf00 button.colab-df-convert');\n",
              "        buttonEl.style.display =\n",
              "          google.colab.kernel.accessAllowed ? 'block' : 'none';\n",
              "\n",
              "        async function convertToInteractive(key) {\n",
              "          const element = document.querySelector('#df-45cc2cf3-409d-4674-89f8-3ac274b0bf00');\n",
              "          const dataTable =\n",
              "            await google.colab.kernel.invokeFunction('convertToInteractive',\n",
              "                                                     [key], {});\n",
              "          if (!dataTable) return;\n",
              "\n",
              "          const docLinkHtml = 'Like what you see? Visit the ' +\n",
              "            '<a target=\"_blank\" href=https://colab.research.google.com/notebooks/data_table.ipynb>data table notebook</a>'\n",
              "            + ' to learn more about interactive tables.';\n",
              "          element.innerHTML = '';\n",
              "          dataTable['output_type'] = 'display_data';\n",
              "          await google.colab.output.renderOutput(dataTable, element);\n",
              "          const docLink = document.createElement('div');\n",
              "          docLink.innerHTML = docLinkHtml;\n",
              "          element.appendChild(docLink);\n",
              "        }\n",
              "      </script>\n",
              "    </div>\n",
              "  </div>\n",
              "  "
            ]
          },
          "metadata": {},
          "execution_count": 33
        }
      ]
    },
    {
      "cell_type": "code",
      "source": [
        "df.head()"
      ],
      "metadata": {
        "colab": {
          "base_uri": "https://localhost:8080/",
          "height": 206
        },
        "id": "r6gKCdpVWM0T",
        "outputId": "e4790090-204e-495c-86d8-4b1edb0f5e6a"
      },
      "execution_count": 34,
      "outputs": [
        {
          "output_type": "execute_result",
          "data": {
            "text/plain": [
              "     id social_media      output  \\\n",
              "0  3364     Facebook  Irrelevant   \n",
              "1   352       Amazon     Neutral   \n",
              "2  8312    Microsoft    Negative   \n",
              "3  4371        CS-GO    Negative   \n",
              "4  4433       Google     Neutral   \n",
              "\n",
              "                                        comment_text  \n",
              "0  I mentioned on Facebook that I was struggling ...  \n",
              "1  BBC News - Amazon boss Jeff Bezos rejects clai...  \n",
              "2  @Microsoft Why do I pay for WORD when it funct...  \n",
              "3  CSGO matchmaking is so full of closet hacking,...  \n",
              "4  Now the President is slapping Americans in the...  "
            ],
            "text/html": [
              "\n",
              "  <div id=\"df-68e79b16-9069-49df-8098-19cc30be8b85\">\n",
              "    <div class=\"colab-df-container\">\n",
              "      <div>\n",
              "<style scoped>\n",
              "    .dataframe tbody tr th:only-of-type {\n",
              "        vertical-align: middle;\n",
              "    }\n",
              "\n",
              "    .dataframe tbody tr th {\n",
              "        vertical-align: top;\n",
              "    }\n",
              "\n",
              "    .dataframe thead th {\n",
              "        text-align: right;\n",
              "    }\n",
              "</style>\n",
              "<table border=\"1\" class=\"dataframe\">\n",
              "  <thead>\n",
              "    <tr style=\"text-align: right;\">\n",
              "      <th></th>\n",
              "      <th>id</th>\n",
              "      <th>social_media</th>\n",
              "      <th>output</th>\n",
              "      <th>comment_text</th>\n",
              "    </tr>\n",
              "  </thead>\n",
              "  <tbody>\n",
              "    <tr>\n",
              "      <th>0</th>\n",
              "      <td>3364</td>\n",
              "      <td>Facebook</td>\n",
              "      <td>Irrelevant</td>\n",
              "      <td>I mentioned on Facebook that I was struggling ...</td>\n",
              "    </tr>\n",
              "    <tr>\n",
              "      <th>1</th>\n",
              "      <td>352</td>\n",
              "      <td>Amazon</td>\n",
              "      <td>Neutral</td>\n",
              "      <td>BBC News - Amazon boss Jeff Bezos rejects clai...</td>\n",
              "    </tr>\n",
              "    <tr>\n",
              "      <th>2</th>\n",
              "      <td>8312</td>\n",
              "      <td>Microsoft</td>\n",
              "      <td>Negative</td>\n",
              "      <td>@Microsoft Why do I pay for WORD when it funct...</td>\n",
              "    </tr>\n",
              "    <tr>\n",
              "      <th>3</th>\n",
              "      <td>4371</td>\n",
              "      <td>CS-GO</td>\n",
              "      <td>Negative</td>\n",
              "      <td>CSGO matchmaking is so full of closet hacking,...</td>\n",
              "    </tr>\n",
              "    <tr>\n",
              "      <th>4</th>\n",
              "      <td>4433</td>\n",
              "      <td>Google</td>\n",
              "      <td>Neutral</td>\n",
              "      <td>Now the President is slapping Americans in the...</td>\n",
              "    </tr>\n",
              "  </tbody>\n",
              "</table>\n",
              "</div>\n",
              "      <button class=\"colab-df-convert\" onclick=\"convertToInteractive('df-68e79b16-9069-49df-8098-19cc30be8b85')\"\n",
              "              title=\"Convert this dataframe to an interactive table.\"\n",
              "              style=\"display:none;\">\n",
              "        \n",
              "  <svg xmlns=\"http://www.w3.org/2000/svg\" height=\"24px\"viewBox=\"0 0 24 24\"\n",
              "       width=\"24px\">\n",
              "    <path d=\"M0 0h24v24H0V0z\" fill=\"none\"/>\n",
              "    <path d=\"M18.56 5.44l.94 2.06.94-2.06 2.06-.94-2.06-.94-.94-2.06-.94 2.06-2.06.94zm-11 1L8.5 8.5l.94-2.06 2.06-.94-2.06-.94L8.5 2.5l-.94 2.06-2.06.94zm10 10l.94 2.06.94-2.06 2.06-.94-2.06-.94-.94-2.06-.94 2.06-2.06.94z\"/><path d=\"M17.41 7.96l-1.37-1.37c-.4-.4-.92-.59-1.43-.59-.52 0-1.04.2-1.43.59L10.3 9.45l-7.72 7.72c-.78.78-.78 2.05 0 2.83L4 21.41c.39.39.9.59 1.41.59.51 0 1.02-.2 1.41-.59l7.78-7.78 2.81-2.81c.8-.78.8-2.07 0-2.86zM5.41 20L4 18.59l7.72-7.72 1.47 1.35L5.41 20z\"/>\n",
              "  </svg>\n",
              "      </button>\n",
              "      \n",
              "  <style>\n",
              "    .colab-df-container {\n",
              "      display:flex;\n",
              "      flex-wrap:wrap;\n",
              "      gap: 12px;\n",
              "    }\n",
              "\n",
              "    .colab-df-convert {\n",
              "      background-color: #E8F0FE;\n",
              "      border: none;\n",
              "      border-radius: 50%;\n",
              "      cursor: pointer;\n",
              "      display: none;\n",
              "      fill: #1967D2;\n",
              "      height: 32px;\n",
              "      padding: 0 0 0 0;\n",
              "      width: 32px;\n",
              "    }\n",
              "\n",
              "    .colab-df-convert:hover {\n",
              "      background-color: #E2EBFA;\n",
              "      box-shadow: 0px 1px 2px rgba(60, 64, 67, 0.3), 0px 1px 3px 1px rgba(60, 64, 67, 0.15);\n",
              "      fill: #174EA6;\n",
              "    }\n",
              "\n",
              "    [theme=dark] .colab-df-convert {\n",
              "      background-color: #3B4455;\n",
              "      fill: #D2E3FC;\n",
              "    }\n",
              "\n",
              "    [theme=dark] .colab-df-convert:hover {\n",
              "      background-color: #434B5C;\n",
              "      box-shadow: 0px 1px 3px 1px rgba(0, 0, 0, 0.15);\n",
              "      filter: drop-shadow(0px 1px 2px rgba(0, 0, 0, 0.3));\n",
              "      fill: #FFFFFF;\n",
              "    }\n",
              "  </style>\n",
              "\n",
              "      <script>\n",
              "        const buttonEl =\n",
              "          document.querySelector('#df-68e79b16-9069-49df-8098-19cc30be8b85 button.colab-df-convert');\n",
              "        buttonEl.style.display =\n",
              "          google.colab.kernel.accessAllowed ? 'block' : 'none';\n",
              "\n",
              "        async function convertToInteractive(key) {\n",
              "          const element = document.querySelector('#df-68e79b16-9069-49df-8098-19cc30be8b85');\n",
              "          const dataTable =\n",
              "            await google.colab.kernel.invokeFunction('convertToInteractive',\n",
              "                                                     [key], {});\n",
              "          if (!dataTable) return;\n",
              "\n",
              "          const docLinkHtml = 'Like what you see? Visit the ' +\n",
              "            '<a target=\"_blank\" href=https://colab.research.google.com/notebooks/data_table.ipynb>data table notebook</a>'\n",
              "            + ' to learn more about interactive tables.';\n",
              "          element.innerHTML = '';\n",
              "          dataTable['output_type'] = 'display_data';\n",
              "          await google.colab.output.renderOutput(dataTable, element);\n",
              "          const docLink = document.createElement('div');\n",
              "          docLink.innerHTML = docLinkHtml;\n",
              "          element.appendChild(docLink);\n",
              "        }\n",
              "      </script>\n",
              "    </div>\n",
              "  </div>\n",
              "  "
            ]
          },
          "metadata": {},
          "execution_count": 34
        }
      ]
    },
    {
      "cell_type": "code",
      "source": [
        "df.tail()"
      ],
      "metadata": {
        "colab": {
          "base_uri": "https://localhost:8080/",
          "height": 206
        },
        "id": "VGWtSfZTWPWc",
        "outputId": "730368a8-3deb-4ca5-ee99-e8dbe2ba78ba"
      },
      "execution_count": 35,
      "outputs": [
        {
          "output_type": "execute_result",
          "data": {
            "text/plain": [
              "       id         social_media      output  \\\n",
              "995  4891  GrandTheftAuto(GTA)  Irrelevant   \n",
              "996  4359                CS-GO  Irrelevant   \n",
              "997  2652          Borderlands    Positive   \n",
              "998  8069            Microsoft    Positive   \n",
              "999  6960      johnson&johnson     Neutral   \n",
              "\n",
              "                                          comment_text  \n",
              "995  â­ï¸ Toronto is the arts and culture capital...  \n",
              "996  tHIS IS ACTUALLY A GOOD MOVE TOT BRING MORE VI...  \n",
              "997  Today sucked so itâs time to drink wine n pl...  \n",
              "998  Bought a fraction of Microsoft today. Small wins.  \n",
              "999  Johnson & Johnson to stop selling talc baby po...  "
            ],
            "text/html": [
              "\n",
              "  <div id=\"df-b6d5ee10-5dfd-4cf0-b02f-0b06f664e634\">\n",
              "    <div class=\"colab-df-container\">\n",
              "      <div>\n",
              "<style scoped>\n",
              "    .dataframe tbody tr th:only-of-type {\n",
              "        vertical-align: middle;\n",
              "    }\n",
              "\n",
              "    .dataframe tbody tr th {\n",
              "        vertical-align: top;\n",
              "    }\n",
              "\n",
              "    .dataframe thead th {\n",
              "        text-align: right;\n",
              "    }\n",
              "</style>\n",
              "<table border=\"1\" class=\"dataframe\">\n",
              "  <thead>\n",
              "    <tr style=\"text-align: right;\">\n",
              "      <th></th>\n",
              "      <th>id</th>\n",
              "      <th>social_media</th>\n",
              "      <th>output</th>\n",
              "      <th>comment_text</th>\n",
              "    </tr>\n",
              "  </thead>\n",
              "  <tbody>\n",
              "    <tr>\n",
              "      <th>995</th>\n",
              "      <td>4891</td>\n",
              "      <td>GrandTheftAuto(GTA)</td>\n",
              "      <td>Irrelevant</td>\n",
              "      <td>â­ï¸ Toronto is the arts and culture capital...</td>\n",
              "    </tr>\n",
              "    <tr>\n",
              "      <th>996</th>\n",
              "      <td>4359</td>\n",
              "      <td>CS-GO</td>\n",
              "      <td>Irrelevant</td>\n",
              "      <td>tHIS IS ACTUALLY A GOOD MOVE TOT BRING MORE VI...</td>\n",
              "    </tr>\n",
              "    <tr>\n",
              "      <th>997</th>\n",
              "      <td>2652</td>\n",
              "      <td>Borderlands</td>\n",
              "      <td>Positive</td>\n",
              "      <td>Today sucked so itâs time to drink wine n pl...</td>\n",
              "    </tr>\n",
              "    <tr>\n",
              "      <th>998</th>\n",
              "      <td>8069</td>\n",
              "      <td>Microsoft</td>\n",
              "      <td>Positive</td>\n",
              "      <td>Bought a fraction of Microsoft today. Small wins.</td>\n",
              "    </tr>\n",
              "    <tr>\n",
              "      <th>999</th>\n",
              "      <td>6960</td>\n",
              "      <td>johnson&amp;johnson</td>\n",
              "      <td>Neutral</td>\n",
              "      <td>Johnson &amp; Johnson to stop selling talc baby po...</td>\n",
              "    </tr>\n",
              "  </tbody>\n",
              "</table>\n",
              "</div>\n",
              "      <button class=\"colab-df-convert\" onclick=\"convertToInteractive('df-b6d5ee10-5dfd-4cf0-b02f-0b06f664e634')\"\n",
              "              title=\"Convert this dataframe to an interactive table.\"\n",
              "              style=\"display:none;\">\n",
              "        \n",
              "  <svg xmlns=\"http://www.w3.org/2000/svg\" height=\"24px\"viewBox=\"0 0 24 24\"\n",
              "       width=\"24px\">\n",
              "    <path d=\"M0 0h24v24H0V0z\" fill=\"none\"/>\n",
              "    <path d=\"M18.56 5.44l.94 2.06.94-2.06 2.06-.94-2.06-.94-.94-2.06-.94 2.06-2.06.94zm-11 1L8.5 8.5l.94-2.06 2.06-.94-2.06-.94L8.5 2.5l-.94 2.06-2.06.94zm10 10l.94 2.06.94-2.06 2.06-.94-2.06-.94-.94-2.06-.94 2.06-2.06.94z\"/><path d=\"M17.41 7.96l-1.37-1.37c-.4-.4-.92-.59-1.43-.59-.52 0-1.04.2-1.43.59L10.3 9.45l-7.72 7.72c-.78.78-.78 2.05 0 2.83L4 21.41c.39.39.9.59 1.41.59.51 0 1.02-.2 1.41-.59l7.78-7.78 2.81-2.81c.8-.78.8-2.07 0-2.86zM5.41 20L4 18.59l7.72-7.72 1.47 1.35L5.41 20z\"/>\n",
              "  </svg>\n",
              "      </button>\n",
              "      \n",
              "  <style>\n",
              "    .colab-df-container {\n",
              "      display:flex;\n",
              "      flex-wrap:wrap;\n",
              "      gap: 12px;\n",
              "    }\n",
              "\n",
              "    .colab-df-convert {\n",
              "      background-color: #E8F0FE;\n",
              "      border: none;\n",
              "      border-radius: 50%;\n",
              "      cursor: pointer;\n",
              "      display: none;\n",
              "      fill: #1967D2;\n",
              "      height: 32px;\n",
              "      padding: 0 0 0 0;\n",
              "      width: 32px;\n",
              "    }\n",
              "\n",
              "    .colab-df-convert:hover {\n",
              "      background-color: #E2EBFA;\n",
              "      box-shadow: 0px 1px 2px rgba(60, 64, 67, 0.3), 0px 1px 3px 1px rgba(60, 64, 67, 0.15);\n",
              "      fill: #174EA6;\n",
              "    }\n",
              "\n",
              "    [theme=dark] .colab-df-convert {\n",
              "      background-color: #3B4455;\n",
              "      fill: #D2E3FC;\n",
              "    }\n",
              "\n",
              "    [theme=dark] .colab-df-convert:hover {\n",
              "      background-color: #434B5C;\n",
              "      box-shadow: 0px 1px 3px 1px rgba(0, 0, 0, 0.15);\n",
              "      filter: drop-shadow(0px 1px 2px rgba(0, 0, 0, 0.3));\n",
              "      fill: #FFFFFF;\n",
              "    }\n",
              "  </style>\n",
              "\n",
              "      <script>\n",
              "        const buttonEl =\n",
              "          document.querySelector('#df-b6d5ee10-5dfd-4cf0-b02f-0b06f664e634 button.colab-df-convert');\n",
              "        buttonEl.style.display =\n",
              "          google.colab.kernel.accessAllowed ? 'block' : 'none';\n",
              "\n",
              "        async function convertToInteractive(key) {\n",
              "          const element = document.querySelector('#df-b6d5ee10-5dfd-4cf0-b02f-0b06f664e634');\n",
              "          const dataTable =\n",
              "            await google.colab.kernel.invokeFunction('convertToInteractive',\n",
              "                                                     [key], {});\n",
              "          if (!dataTable) return;\n",
              "\n",
              "          const docLinkHtml = 'Like what you see? Visit the ' +\n",
              "            '<a target=\"_blank\" href=https://colab.research.google.com/notebooks/data_table.ipynb>data table notebook</a>'\n",
              "            + ' to learn more about interactive tables.';\n",
              "          element.innerHTML = '';\n",
              "          dataTable['output_type'] = 'display_data';\n",
              "          await google.colab.output.renderOutput(dataTable, element);\n",
              "          const docLink = document.createElement('div');\n",
              "          docLink.innerHTML = docLinkHtml;\n",
              "          element.appendChild(docLink);\n",
              "        }\n",
              "      </script>\n",
              "    </div>\n",
              "  </div>\n",
              "  "
            ]
          },
          "metadata": {},
          "execution_count": 35
        }
      ]
    },
    {
      "cell_type": "code",
      "source": [
        "df.info()"
      ],
      "metadata": {
        "colab": {
          "base_uri": "https://localhost:8080/"
        },
        "id": "XdcGETY6WQzf",
        "outputId": "627807b6-5756-495a-b33d-0a8f01d0c5bd"
      },
      "execution_count": 36,
      "outputs": [
        {
          "output_type": "stream",
          "name": "stdout",
          "text": [
            "<class 'pandas.core.frame.DataFrame'>\n",
            "RangeIndex: 1000 entries, 0 to 999\n",
            "Data columns (total 4 columns):\n",
            " #   Column        Non-Null Count  Dtype \n",
            "---  ------        --------------  ----- \n",
            " 0   id            1000 non-null   int64 \n",
            " 1   social_media  1000 non-null   object\n",
            " 2   output        1000 non-null   object\n",
            " 3   comment_text  1000 non-null   object\n",
            "dtypes: int64(1), object(3)\n",
            "memory usage: 31.4+ KB\n"
          ]
        }
      ]
    },
    {
      "cell_type": "markdown",
      "source": [
        "**Feature Engineering**"
      ],
      "metadata": {
        "id": "EnCrSUEGiYH2"
      }
    },
    {
      "cell_type": "code",
      "source": [
        "df.isna().sum()"
      ],
      "metadata": {
        "colab": {
          "base_uri": "https://localhost:8080/"
        },
        "id": "5DN_iLMwWTS6",
        "outputId": "bb9b9c63-9a61-408b-ea5d-c55231e08a32"
      },
      "execution_count": 37,
      "outputs": [
        {
          "output_type": "execute_result",
          "data": {
            "text/plain": [
              "id              0\n",
              "social_media    0\n",
              "output          0\n",
              "comment_text    0\n",
              "dtype: int64"
            ]
          },
          "metadata": {},
          "execution_count": 37
        }
      ]
    },
    {
      "cell_type": "code",
      "source": [
        "df['social_media'].unique()"
      ],
      "metadata": {
        "colab": {
          "base_uri": "https://localhost:8080/"
        },
        "id": "6O_r1SCIWXf6",
        "outputId": "c27c094d-3717-49a4-a1e1-045b7483d5c7"
      },
      "execution_count": 38,
      "outputs": [
        {
          "output_type": "execute_result",
          "data": {
            "text/plain": [
              "array(['Facebook', 'Amazon', 'Microsoft', 'CS-GO', 'Google', 'FIFA',\n",
              "       'MaddenNFL', 'TomClancysRainbowSix', 'AssassinsCreed',\n",
              "       'CallOfDuty', 'Dota2', 'Verizon', 'NBA2K', 'Nvidia',\n",
              "       'GrandTheftAuto(GTA)', 'RedDeadRedemption(RDR)', 'Hearthstone',\n",
              "       'ApexLegends', 'Overwatch', 'PlayerUnknownsBattlegrounds(PUBG)',\n",
              "       'Borderlands', 'PlayStation5(PS5)', 'johnson&johnson', 'Fortnite',\n",
              "       'Xbox(Xseries)', 'CallOfDutyBlackopsColdWar', 'HomeDepot',\n",
              "       'Cyberpunk2077', 'TomClancysGhostRecon', 'WorldOfCraft',\n",
              "       'LeagueOfLegends', 'Battlefield'], dtype=object)"
            ]
          },
          "metadata": {},
          "execution_count": 38
        }
      ]
    },
    {
      "cell_type": "code",
      "source": [
        "print(\"the total row of data is \",len(df))"
      ],
      "metadata": {
        "colab": {
          "base_uri": "https://localhost:8080/"
        },
        "id": "xrfAo4wzWfh6",
        "outputId": "9fe5e379-4b0d-4305-d332-282d8b8ce854"
      },
      "execution_count": 39,
      "outputs": [
        {
          "output_type": "stream",
          "name": "stdout",
          "text": [
            "the total row of data is  1000\n"
          ]
        }
      ]
    },
    {
      "cell_type": "code",
      "source": [
        "df['social_media'].value_counts()"
      ],
      "metadata": {
        "colab": {
          "base_uri": "https://localhost:8080/"
        },
        "id": "L5o-3m_oW7aI",
        "outputId": "8e9488c2-c8e0-4740-ec79-7a66bd1e9074"
      },
      "execution_count": 40,
      "outputs": [
        {
          "output_type": "execute_result",
          "data": {
            "text/plain": [
              "RedDeadRedemption(RDR)               40\n",
              "johnson&johnson                      39\n",
              "FIFA                                 38\n",
              "PlayerUnknownsBattlegrounds(PUBG)    38\n",
              "LeagueOfLegends                      37\n",
              "ApexLegends                          36\n",
              "TomClancysRainbowSix                 35\n",
              "Nvidia                               35\n",
              "GrandTheftAuto(GTA)                  35\n",
              "Amazon                               34\n",
              "Fortnite                             34\n",
              "Facebook                             33\n",
              "PlayStation5(PS5)                    33\n",
              "AssassinsCreed                       33\n",
              "Borderlands                          33\n",
              "Overwatch                            32\n",
              "Hearthstone                          32\n",
              "Verizon                              32\n",
              "CS-GO                                32\n",
              "CallOfDuty                           31\n",
              "Cyberpunk2077                        30\n",
              "WorldOfCraft                         30\n",
              "MaddenNFL                            29\n",
              "Microsoft                            28\n",
              "Dota2                                27\n",
              "CallOfDutyBlackopsColdWar            27\n",
              "Xbox(Xseries)                        26\n",
              "Battlefield                          26\n",
              "Google                               24\n",
              "TomClancysGhostRecon                 22\n",
              "NBA2K                                21\n",
              "HomeDepot                            18\n",
              "Name: social_media, dtype: int64"
            ]
          },
          "metadata": {},
          "execution_count": 40
        }
      ]
    },
    {
      "cell_type": "code",
      "source": [
        "sns.countplot(x='social_media',data=df)"
      ],
      "metadata": {
        "colab": {
          "base_uri": "https://localhost:8080/",
          "height": 297
        },
        "id": "F25qz-1yXEqG",
        "outputId": "a8011dec-025a-40d6-93eb-dd352c6a864a"
      },
      "execution_count": 41,
      "outputs": [
        {
          "output_type": "execute_result",
          "data": {
            "text/plain": [
              "<matplotlib.axes._subplots.AxesSubplot at 0x7f9d333d4970>"
            ]
          },
          "metadata": {},
          "execution_count": 41
        },
        {
          "output_type": "display_data",
          "data": {
            "text/plain": [
              "<Figure size 432x288 with 1 Axes>"
            ],
            "image/png": "[encoded data removed]"
          },
          "metadata": {
            "needs_background": "light"
          }
        }
      ]
    },
    {
      "cell_type": "code",
      "source": [
        "df['output'].value_counts()"
      ],
      "metadata": {
        "colab": {
          "base_uri": "https://localhost:8080/"
        },
        "id": "EEb1M76DXRHT",
        "outputId": "95cf8ad1-0731-4beb-abc5-4bba65fcf8f6"
      },
      "execution_count": 42,
      "outputs": [
        {
          "output_type": "execute_result",
          "data": {
            "text/plain": [
              "Neutral       285\n",
              "Positive      277\n",
              "Negative      266\n",
              "Irrelevant    172\n",
              "Name: output, dtype: int64"
            ]
          },
          "metadata": {},
          "execution_count": 42
        }
      ]
    },
    {
      "cell_type": "code",
      "source": [
        "sns.countplot(x='output',data=df)"
      ],
      "metadata": {
        "colab": {
          "base_uri": "https://localhost:8080/",
          "height": 296
        },
        "id": "TreLOHh6Xtoj",
        "outputId": "51eb3b33-a603-4e24-a11c-d868cd412349"
      },
      "execution_count": 43,
      "outputs": [
        {
          "output_type": "execute_result",
          "data": {
            "text/plain": [
              "<matplotlib.axes._subplots.AxesSubplot at 0x7f9d33322b50>"
            ]
          },
          "metadata": {},
          "execution_count": 43
        },
        {
          "output_type": "display_data",
          "data": {
            "text/plain": [
              "<Figure size 432x288 with 1 Axes>"
            ],
            "image/png": "[encoded data removed]"
          },
          "metadata": {
            "needs_background": "light"
          }
        }
      ]
    },
    {
      "cell_type": "code",
      "source": [
        "#irrelevant\n",
        "df.drop(df.index[(df['output']=='Irrelevant')],axis=0,inplace=True)\n",
        "df"
      ],
      "metadata": {
        "colab": {
          "base_uri": "https://localhost:8080/",
          "height": 424
        },
        "id": "KVGcfkB0YReL",
        "outputId": "e2c599c8-b603-4b51-b02e-68a71861dcd3"
      },
      "execution_count": 44,
      "outputs": [
        {
          "output_type": "execute_result",
          "data": {
            "text/plain": [
              "       id       social_media    output  \\\n",
              "1     352             Amazon   Neutral   \n",
              "2    8312          Microsoft  Negative   \n",
              "3    4371              CS-GO  Negative   \n",
              "4    4433             Google   Neutral   \n",
              "5    6273               FIFA  Negative   \n",
              "..    ...                ...       ...   \n",
              "993   314             Amazon  Negative   \n",
              "994  9701  PlayStation5(PS5)  Positive   \n",
              "997  2652        Borderlands  Positive   \n",
              "998  8069          Microsoft  Positive   \n",
              "999  6960    johnson&johnson   Neutral   \n",
              "\n",
              "                                          comment_text  \n",
              "1    BBC News - Amazon boss Jeff Bezos rejects clai...  \n",
              "2    @Microsoft Why do I pay for WORD when it funct...  \n",
              "3    CSGO matchmaking is so full of closet hacking,...  \n",
              "4    Now the President is slapping Americans in the...  \n",
              "5    Hi @EAHelp Iâve had Madeleine McCann in my c...  \n",
              "..                                                 ...  \n",
              "993  Please explain how this is possible! How can t...  \n",
              "994  Good on Sony. As much as I want to see the new...  \n",
              "997  Today sucked so itâs time to drink wine n pl...  \n",
              "998  Bought a fraction of Microsoft today. Small wins.  \n",
              "999  Johnson & Johnson to stop selling talc baby po...  \n",
              "\n",
              "[828 rows x 4 columns]"
            ],
            "text/html": [
              "\n",
              "  <div id=\"df-3ebbf314-f23c-464a-a9fe-31ae18e0f6a3\">\n",
              "    <div class=\"colab-df-container\">\n",
              "      <div>\n",
              "<style scoped>\n",
              "    .dataframe tbody tr th:only-of-type {\n",
              "        vertical-align: middle;\n",
              "    }\n",
              "\n",
              "    .dataframe tbody tr th {\n",
              "        vertical-align: top;\n",
              "    }\n",
              "\n",
              "    .dataframe thead th {\n",
              "        text-align: right;\n",
              "    }\n",
              "</style>\n",
              "<table border=\"1\" class=\"dataframe\">\n",
              "  <thead>\n",
              "    <tr style=\"text-align: right;\">\n",
              "      <th></th>\n",
              "      <th>id</th>\n",
              "      <th>social_media</th>\n",
              "      <th>output</th>\n",
              "      <th>comment_text</th>\n",
              "    </tr>\n",
              "  </thead>\n",
              "  <tbody>\n",
              "    <tr>\n",
              "      <th>1</th>\n",
              "      <td>352</td>\n",
              "      <td>Amazon</td>\n",
              "      <td>Neutral</td>\n",
              "      <td>BBC News - Amazon boss Jeff Bezos rejects clai...</td>\n",
              "    </tr>\n",
              "    <tr>\n",
              "      <th>2</th>\n",
              "      <td>8312</td>\n",
              "      <td>Microsoft</td>\n",
              "      <td>Negative</td>\n",
              "      <td>@Microsoft Why do I pay for WORD when it funct...</td>\n",
              "    </tr>\n",
              "    <tr>\n",
              "      <th>3</th>\n",
              "      <td>4371</td>\n",
              "      <td>CS-GO</td>\n",
              "      <td>Negative</td>\n",
              "      <td>CSGO matchmaking is so full of closet hacking,...</td>\n",
              "    </tr>\n",
              "    <tr>\n",
              "      <th>4</th>\n",
              "      <td>4433</td>\n",
              "      <td>Google</td>\n",
              "      <td>Neutral</td>\n",
              "      <td>Now the President is slapping Americans in the...</td>\n",
              "    </tr>\n",
              "    <tr>\n",
              "      <th>5</th>\n",
              "      <td>6273</td>\n",
              "      <td>FIFA</td>\n",
              "      <td>Negative</td>\n",
              "      <td>Hi @EAHelp Iâve had Madeleine McCann in my c...</td>\n",
              "    </tr>\n",
              "    <tr>\n",
              "      <th>...</th>\n",
              "      <td>...</td>\n",
              "      <td>...</td>\n",
              "      <td>...</td>\n",
              "      <td>...</td>\n",
              "    </tr>\n",
              "    <tr>\n",
              "      <th>993</th>\n",
              "      <td>314</td>\n",
              "      <td>Amazon</td>\n",
              "      <td>Negative</td>\n",
              "      <td>Please explain how this is possible! How can t...</td>\n",
              "    </tr>\n",
              "    <tr>\n",
              "      <th>994</th>\n",
              "      <td>9701</td>\n",
              "      <td>PlayStation5(PS5)</td>\n",
              "      <td>Positive</td>\n",
              "      <td>Good on Sony. As much as I want to see the new...</td>\n",
              "    </tr>\n",
              "    <tr>\n",
              "      <th>997</th>\n",
              "      <td>2652</td>\n",
              "      <td>Borderlands</td>\n",
              "      <td>Positive</td>\n",
              "      <td>Today sucked so itâs time to drink wine n pl...</td>\n",
              "    </tr>\n",
              "    <tr>\n",
              "      <th>998</th>\n",
              "      <td>8069</td>\n",
              "      <td>Microsoft</td>\n",
              "      <td>Positive</td>\n",
              "      <td>Bought a fraction of Microsoft today. Small wins.</td>\n",
              "    </tr>\n",
              "    <tr>\n",
              "      <th>999</th>\n",
              "      <td>6960</td>\n",
              "      <td>johnson&amp;johnson</td>\n",
              "      <td>Neutral</td>\n",
              "      <td>Johnson &amp; Johnson to stop selling talc baby po...</td>\n",
              "    </tr>\n",
              "  </tbody>\n",
              "</table>\n",
              "<p>828 rows × 4 columns</p>\n",
              "</div>\n",
              "      <button class=\"colab-df-convert\" onclick=\"convertToInteractive('df-3ebbf314-f23c-464a-a9fe-31ae18e0f6a3')\"\n",
              "              title=\"Convert this dataframe to an interactive table.\"\n",
              "              style=\"display:none;\">\n",
              "        \n",
              "  <svg xmlns=\"http://www.w3.org/2000/svg\" height=\"24px\"viewBox=\"0 0 24 24\"\n",
              "       width=\"24px\">\n",
              "    <path d=\"M0 0h24v24H0V0z\" fill=\"none\"/>\n",
              "    <path d=\"M18.56 5.44l.94 2.06.94-2.06 2.06-.94-2.06-.94-.94-2.06-.94 2.06-2.06.94zm-11 1L8.5 8.5l.94-2.06 2.06-.94-2.06-.94L8.5 2.5l-.94 2.06-2.06.94zm10 10l.94 2.06.94-2.06 2.06-.94-2.06-.94-.94-2.06-.94 2.06-2.06.94z\"/><path d=\"M17.41 7.96l-1.37-1.37c-.4-.4-.92-.59-1.43-.59-.52 0-1.04.2-1.43.59L10.3 9.45l-7.72 7.72c-.78.78-.78 2.05 0 2.83L4 21.41c.39.39.9.59 1.41.59.51 0 1.02-.2 1.41-.59l7.78-7.78 2.81-2.81c.8-.78.8-2.07 0-2.86zM5.41 20L4 18.59l7.72-7.72 1.47 1.35L5.41 20z\"/>\n",
              "  </svg>\n",
              "      </button>\n",
              "      \n",
              "  <style>\n",
              "    .colab-df-container {\n",
              "      display:flex;\n",
              "      flex-wrap:wrap;\n",
              "      gap: 12px;\n",
              "    }\n",
              "\n",
              "    .colab-df-convert {\n",
              "      background-color: #E8F0FE;\n",
              "      border: none;\n",
              "      border-radius: 50%;\n",
              "      cursor: pointer;\n",
              "      display: none;\n",
              "      fill: #1967D2;\n",
              "      height: 32px;\n",
              "      padding: 0 0 0 0;\n",
              "      width: 32px;\n",
              "    }\n",
              "\n",
              "    .colab-df-convert:hover {\n",
              "      background-color: #E2EBFA;\n",
              "      box-shadow: 0px 1px 2px rgba(60, 64, 67, 0.3), 0px 1px 3px 1px rgba(60, 64, 67, 0.15);\n",
              "      fill: #174EA6;\n",
              "    }\n",
              "\n",
              "    [theme=dark] .colab-df-convert {\n",
              "      background-color: #3B4455;\n",
              "      fill: #D2E3FC;\n",
              "    }\n",
              "\n",
              "    [theme=dark] .colab-df-convert:hover {\n",
              "      background-color: #434B5C;\n",
              "      box-shadow: 0px 1px 3px 1px rgba(0, 0, 0, 0.15);\n",
              "      filter: drop-shadow(0px 1px 2px rgba(0, 0, 0, 0.3));\n",
              "      fill: #FFFFFF;\n",
              "    }\n",
              "  </style>\n",
              "\n",
              "      <script>\n",
              "        const buttonEl =\n",
              "          document.querySelector('#df-3ebbf314-f23c-464a-a9fe-31ae18e0f6a3 button.colab-df-convert');\n",
              "        buttonEl.style.display =\n",
              "          google.colab.kernel.accessAllowed ? 'block' : 'none';\n",
              "\n",
              "        async function convertToInteractive(key) {\n",
              "          const element = document.querySelector('#df-3ebbf314-f23c-464a-a9fe-31ae18e0f6a3');\n",
              "          const dataTable =\n",
              "            await google.colab.kernel.invokeFunction('convertToInteractive',\n",
              "                                                     [key], {});\n",
              "          if (!dataTable) return;\n",
              "\n",
              "          const docLinkHtml = 'Like what you see? Visit the ' +\n",
              "            '<a target=\"_blank\" href=https://colab.research.google.com/notebooks/data_table.ipynb>data table notebook</a>'\n",
              "            + ' to learn more about interactive tables.';\n",
              "          element.innerHTML = '';\n",
              "          dataTable['output_type'] = 'display_data';\n",
              "          await google.colab.output.renderOutput(dataTable, element);\n",
              "          const docLink = document.createElement('div');\n",
              "          docLink.innerHTML = docLinkHtml;\n",
              "          element.appendChild(docLink);\n",
              "        }\n",
              "      </script>\n",
              "    </div>\n",
              "  </div>\n",
              "  "
            ]
          },
          "metadata": {},
          "execution_count": 44
        }
      ]
    },
    {
      "cell_type": "code",
      "source": [
        "#reset index\n",
        "df.reset_index(drop=True,inplace=True)\n",
        "df"
      ],
      "metadata": {
        "colab": {
          "base_uri": "https://localhost:8080/",
          "height": 424
        },
        "id": "z98Tb_RQZUo7",
        "outputId": "bcf9d0fe-3190-4a8e-bad6-45e547aa93f5"
      },
      "execution_count": 45,
      "outputs": [
        {
          "output_type": "execute_result",
          "data": {
            "text/plain": [
              "       id       social_media    output  \\\n",
              "0     352             Amazon   Neutral   \n",
              "1    8312          Microsoft  Negative   \n",
              "2    4371              CS-GO  Negative   \n",
              "3    4433             Google   Neutral   \n",
              "4    6273               FIFA  Negative   \n",
              "..    ...                ...       ...   \n",
              "823   314             Amazon  Negative   \n",
              "824  9701  PlayStation5(PS5)  Positive   \n",
              "825  2652        Borderlands  Positive   \n",
              "826  8069          Microsoft  Positive   \n",
              "827  6960    johnson&johnson   Neutral   \n",
              "\n",
              "                                          comment_text  \n",
              "0    BBC News - Amazon boss Jeff Bezos rejects clai...  \n",
              "1    @Microsoft Why do I pay for WORD when it funct...  \n",
              "2    CSGO matchmaking is so full of closet hacking,...  \n",
              "3    Now the President is slapping Americans in the...  \n",
              "4    Hi @EAHelp Iâve had Madeleine McCann in my c...  \n",
              "..                                                 ...  \n",
              "823  Please explain how this is possible! How can t...  \n",
              "824  Good on Sony. As much as I want to see the new...  \n",
              "825  Today sucked so itâs time to drink wine n pl...  \n",
              "826  Bought a fraction of Microsoft today. Small wins.  \n",
              "827  Johnson & Johnson to stop selling talc baby po...  \n",
              "\n",
              "[828 rows x 4 columns]"
            ],
            "text/html": [
              "\n",
              "  <div id=\"df-94b73c5d-0eaf-4e7f-94ed-a25cbbe823c9\">\n",
              "    <div class=\"colab-df-container\">\n",
              "      <div>\n",
              "<style scoped>\n",
              "    .dataframe tbody tr th:only-of-type {\n",
              "        vertical-align: middle;\n",
              "    }\n",
              "\n",
              "    .dataframe tbody tr th {\n",
              "        vertical-align: top;\n",
              "    }\n",
              "\n",
              "    .dataframe thead th {\n",
              "        text-align: right;\n",
              "    }\n",
              "</style>\n",
              "<table border=\"1\" class=\"dataframe\">\n",
              "  <thead>\n",
              "    <tr style=\"text-align: right;\">\n",
              "      <th></th>\n",
              "      <th>id</th>\n",
              "      <th>social_media</th>\n",
              "      <th>output</th>\n",
              "      <th>comment_text</th>\n",
              "    </tr>\n",
              "  </thead>\n",
              "  <tbody>\n",
              "    <tr>\n",
              "      <th>0</th>\n",
              "      <td>352</td>\n",
              "      <td>Amazon</td>\n",
              "      <td>Neutral</td>\n",
              "      <td>BBC News - Amazon boss Jeff Bezos rejects clai...</td>\n",
              "    </tr>\n",
              "    <tr>\n",
              "      <th>1</th>\n",
              "      <td>8312</td>\n",
              "      <td>Microsoft</td>\n",
              "      <td>Negative</td>\n",
              "      <td>@Microsoft Why do I pay for WORD when it funct...</td>\n",
              "    </tr>\n",
              "    <tr>\n",
              "      <th>2</th>\n",
              "      <td>4371</td>\n",
              "      <td>CS-GO</td>\n",
              "      <td>Negative</td>\n",
              "      <td>CSGO matchmaking is so full of closet hacking,...</td>\n",
              "    </tr>\n",
              "    <tr>\n",
              "      <th>3</th>\n",
              "      <td>4433</td>\n",
              "      <td>Google</td>\n",
              "      <td>Neutral</td>\n",
              "      <td>Now the President is slapping Americans in the...</td>\n",
              "    </tr>\n",
              "    <tr>\n",
              "      <th>4</th>\n",
              "      <td>6273</td>\n",
              "      <td>FIFA</td>\n",
              "      <td>Negative</td>\n",
              "      <td>Hi @EAHelp Iâve had Madeleine McCann in my c...</td>\n",
              "    </tr>\n",
              "    <tr>\n",
              "      <th>...</th>\n",
              "      <td>...</td>\n",
              "      <td>...</td>\n",
              "      <td>...</td>\n",
              "      <td>...</td>\n",
              "    </tr>\n",
              "    <tr>\n",
              "      <th>823</th>\n",
              "      <td>314</td>\n",
              "      <td>Amazon</td>\n",
              "      <td>Negative</td>\n",
              "      <td>Please explain how this is possible! How can t...</td>\n",
              "    </tr>\n",
              "    <tr>\n",
              "      <th>824</th>\n",
              "      <td>9701</td>\n",
              "      <td>PlayStation5(PS5)</td>\n",
              "      <td>Positive</td>\n",
              "      <td>Good on Sony. As much as I want to see the new...</td>\n",
              "    </tr>\n",
              "    <tr>\n",
              "      <th>825</th>\n",
              "      <td>2652</td>\n",
              "      <td>Borderlands</td>\n",
              "      <td>Positive</td>\n",
              "      <td>Today sucked so itâs time to drink wine n pl...</td>\n",
              "    </tr>\n",
              "    <tr>\n",
              "      <th>826</th>\n",
              "      <td>8069</td>\n",
              "      <td>Microsoft</td>\n",
              "      <td>Positive</td>\n",
              "      <td>Bought a fraction of Microsoft today. Small wins.</td>\n",
              "    </tr>\n",
              "    <tr>\n",
              "      <th>827</th>\n",
              "      <td>6960</td>\n",
              "      <td>johnson&amp;johnson</td>\n",
              "      <td>Neutral</td>\n",
              "      <td>Johnson &amp; Johnson to stop selling talc baby po...</td>\n",
              "    </tr>\n",
              "  </tbody>\n",
              "</table>\n",
              "<p>828 rows × 4 columns</p>\n",
              "</div>\n",
              "      <button class=\"colab-df-convert\" onclick=\"convertToInteractive('df-94b73c5d-0eaf-4e7f-94ed-a25cbbe823c9')\"\n",
              "              title=\"Convert this dataframe to an interactive table.\"\n",
              "              style=\"display:none;\">\n",
              "        \n",
              "  <svg xmlns=\"http://www.w3.org/2000/svg\" height=\"24px\"viewBox=\"0 0 24 24\"\n",
              "       width=\"24px\">\n",
              "    <path d=\"M0 0h24v24H0V0z\" fill=\"none\"/>\n",
              "    <path d=\"M18.56 5.44l.94 2.06.94-2.06 2.06-.94-2.06-.94-.94-2.06-.94 2.06-2.06.94zm-11 1L8.5 8.5l.94-2.06 2.06-.94-2.06-.94L8.5 2.5l-.94 2.06-2.06.94zm10 10l.94 2.06.94-2.06 2.06-.94-2.06-.94-.94-2.06-.94 2.06-2.06.94z\"/><path d=\"M17.41 7.96l-1.37-1.37c-.4-.4-.92-.59-1.43-.59-.52 0-1.04.2-1.43.59L10.3 9.45l-7.72 7.72c-.78.78-.78 2.05 0 2.83L4 21.41c.39.39.9.59 1.41.59.51 0 1.02-.2 1.41-.59l7.78-7.78 2.81-2.81c.8-.78.8-2.07 0-2.86zM5.41 20L4 18.59l7.72-7.72 1.47 1.35L5.41 20z\"/>\n",
              "  </svg>\n",
              "      </button>\n",
              "      \n",
              "  <style>\n",
              "    .colab-df-container {\n",
              "      display:flex;\n",
              "      flex-wrap:wrap;\n",
              "      gap: 12px;\n",
              "    }\n",
              "\n",
              "    .colab-df-convert {\n",
              "      background-color: #E8F0FE;\n",
              "      border: none;\n",
              "      border-radius: 50%;\n",
              "      cursor: pointer;\n",
              "      display: none;\n",
              "      fill: #1967D2;\n",
              "      height: 32px;\n",
              "      padding: 0 0 0 0;\n",
              "      width: 32px;\n",
              "    }\n",
              "\n",
              "    .colab-df-convert:hover {\n",
              "      background-color: #E2EBFA;\n",
              "      box-shadow: 0px 1px 2px rgba(60, 64, 67, 0.3), 0px 1px 3px 1px rgba(60, 64, 67, 0.15);\n",
              "      fill: #174EA6;\n",
              "    }\n",
              "\n",
              "    [theme=dark] .colab-df-convert {\n",
              "      background-color: #3B4455;\n",
              "      fill: #D2E3FC;\n",
              "    }\n",
              "\n",
              "    [theme=dark] .colab-df-convert:hover {\n",
              "      background-color: #434B5C;\n",
              "      box-shadow: 0px 1px 3px 1px rgba(0, 0, 0, 0.15);\n",
              "      filter: drop-shadow(0px 1px 2px rgba(0, 0, 0, 0.3));\n",
              "      fill: #FFFFFF;\n",
              "    }\n",
              "  </style>\n",
              "\n",
              "      <script>\n",
              "        const buttonEl =\n",
              "          document.querySelector('#df-94b73c5d-0eaf-4e7f-94ed-a25cbbe823c9 button.colab-df-convert');\n",
              "        buttonEl.style.display =\n",
              "          google.colab.kernel.accessAllowed ? 'block' : 'none';\n",
              "\n",
              "        async function convertToInteractive(key) {\n",
              "          const element = document.querySelector('#df-94b73c5d-0eaf-4e7f-94ed-a25cbbe823c9');\n",
              "          const dataTable =\n",
              "            await google.colab.kernel.invokeFunction('convertToInteractive',\n",
              "                                                     [key], {});\n",
              "          if (!dataTable) return;\n",
              "\n",
              "          const docLinkHtml = 'Like what you see? Visit the ' +\n",
              "            '<a target=\"_blank\" href=https://colab.research.google.com/notebooks/data_table.ipynb>data table notebook</a>'\n",
              "            + ' to learn more about interactive tables.';\n",
              "          element.innerHTML = '';\n",
              "          dataTable['output_type'] = 'display_data';\n",
              "          await google.colab.output.renderOutput(dataTable, element);\n",
              "          const docLink = document.createElement('div');\n",
              "          docLink.innerHTML = docLinkHtml;\n",
              "          element.appendChild(docLink);\n",
              "        }\n",
              "      </script>\n",
              "    </div>\n",
              "  </div>\n",
              "  "
            ]
          },
          "metadata": {},
          "execution_count": 45
        }
      ]
    },
    {
      "cell_type": "code",
      "source": [
        "df.drop(['id','social_media'],axis=1,inplace=True)\n",
        "df"
      ],
      "metadata": {
        "colab": {
          "base_uri": "https://localhost:8080/",
          "height": 424
        },
        "id": "vXxli7sZZlTN",
        "outputId": "02db70f7-1169-43cf-ef59-eb89b16d9a76"
      },
      "execution_count": 46,
      "outputs": [
        {
          "output_type": "execute_result",
          "data": {
            "text/plain": [
              "       output                                       comment_text\n",
              "0     Neutral  BBC News - Amazon boss Jeff Bezos rejects clai...\n",
              "1    Negative  @Microsoft Why do I pay for WORD when it funct...\n",
              "2    Negative  CSGO matchmaking is so full of closet hacking,...\n",
              "3     Neutral  Now the President is slapping Americans in the...\n",
              "4    Negative  Hi @EAHelp Iâve had Madeleine McCann in my c...\n",
              "..        ...                                                ...\n",
              "823  Negative  Please explain how this is possible! How can t...\n",
              "824  Positive  Good on Sony. As much as I want to see the new...\n",
              "825  Positive  Today sucked so itâs time to drink wine n pl...\n",
              "826  Positive  Bought a fraction of Microsoft today. Small wins.\n",
              "827   Neutral  Johnson & Johnson to stop selling talc baby po...\n",
              "\n",
              "[828 rows x 2 columns]"
            ],
            "text/html": [
              "\n",
              "  <div id=\"df-1a144b6f-dda9-4fec-a6de-c75ee5d051e2\">\n",
              "    <div class=\"colab-df-container\">\n",
              "      <div>\n",
              "<style scoped>\n",
              "    .dataframe tbody tr th:only-of-type {\n",
              "        vertical-align: middle;\n",
              "    }\n",
              "\n",
              "    .dataframe tbody tr th {\n",
              "        vertical-align: top;\n",
              "    }\n",
              "\n",
              "    .dataframe thead th {\n",
              "        text-align: right;\n",
              "    }\n",
              "</style>\n",
              "<table border=\"1\" class=\"dataframe\">\n",
              "  <thead>\n",
              "    <tr style=\"text-align: right;\">\n",
              "      <th></th>\n",
              "      <th>output</th>\n",
              "      <th>comment_text</th>\n",
              "    </tr>\n",
              "  </thead>\n",
              "  <tbody>\n",
              "    <tr>\n",
              "      <th>0</th>\n",
              "      <td>Neutral</td>\n",
              "      <td>BBC News - Amazon boss Jeff Bezos rejects clai...</td>\n",
              "    </tr>\n",
              "    <tr>\n",
              "      <th>1</th>\n",
              "      <td>Negative</td>\n",
              "      <td>@Microsoft Why do I pay for WORD when it funct...</td>\n",
              "    </tr>\n",
              "    <tr>\n",
              "      <th>2</th>\n",
              "      <td>Negative</td>\n",
              "      <td>CSGO matchmaking is so full of closet hacking,...</td>\n",
              "    </tr>\n",
              "    <tr>\n",
              "      <th>3</th>\n",
              "      <td>Neutral</td>\n",
              "      <td>Now the President is slapping Americans in the...</td>\n",
              "    </tr>\n",
              "    <tr>\n",
              "      <th>4</th>\n",
              "      <td>Negative</td>\n",
              "      <td>Hi @EAHelp Iâve had Madeleine McCann in my c...</td>\n",
              "    </tr>\n",
              "    <tr>\n",
              "      <th>...</th>\n",
              "      <td>...</td>\n",
              "      <td>...</td>\n",
              "    </tr>\n",
              "    <tr>\n",
              "      <th>823</th>\n",
              "      <td>Negative</td>\n",
              "      <td>Please explain how this is possible! How can t...</td>\n",
              "    </tr>\n",
              "    <tr>\n",
              "      <th>824</th>\n",
              "      <td>Positive</td>\n",
              "      <td>Good on Sony. As much as I want to see the new...</td>\n",
              "    </tr>\n",
              "    <tr>\n",
              "      <th>825</th>\n",
              "      <td>Positive</td>\n",
              "      <td>Today sucked so itâs time to drink wine n pl...</td>\n",
              "    </tr>\n",
              "    <tr>\n",
              "      <th>826</th>\n",
              "      <td>Positive</td>\n",
              "      <td>Bought a fraction of Microsoft today. Small wins.</td>\n",
              "    </tr>\n",
              "    <tr>\n",
              "      <th>827</th>\n",
              "      <td>Neutral</td>\n",
              "      <td>Johnson &amp; Johnson to stop selling talc baby po...</td>\n",
              "    </tr>\n",
              "  </tbody>\n",
              "</table>\n",
              "<p>828 rows × 2 columns</p>\n",
              "</div>\n",
              "      <button class=\"colab-df-convert\" onclick=\"convertToInteractive('df-1a144b6f-dda9-4fec-a6de-c75ee5d051e2')\"\n",
              "              title=\"Convert this dataframe to an interactive table.\"\n",
              "              style=\"display:none;\">\n",
              "        \n",
              "  <svg xmlns=\"http://www.w3.org/2000/svg\" height=\"24px\"viewBox=\"0 0 24 24\"\n",
              "       width=\"24px\">\n",
              "    <path d=\"M0 0h24v24H0V0z\" fill=\"none\"/>\n",
              "    <path d=\"M18.56 5.44l.94 2.06.94-2.06 2.06-.94-2.06-.94-.94-2.06-.94 2.06-2.06.94zm-11 1L8.5 8.5l.94-2.06 2.06-.94-2.06-.94L8.5 2.5l-.94 2.06-2.06.94zm10 10l.94 2.06.94-2.06 2.06-.94-2.06-.94-.94-2.06-.94 2.06-2.06.94z\"/><path d=\"M17.41 7.96l-1.37-1.37c-.4-.4-.92-.59-1.43-.59-.52 0-1.04.2-1.43.59L10.3 9.45l-7.72 7.72c-.78.78-.78 2.05 0 2.83L4 21.41c.39.39.9.59 1.41.59.51 0 1.02-.2 1.41-.59l7.78-7.78 2.81-2.81c.8-.78.8-2.07 0-2.86zM5.41 20L4 18.59l7.72-7.72 1.47 1.35L5.41 20z\"/>\n",
              "  </svg>\n",
              "      </button>\n",
              "      \n",
              "  <style>\n",
              "    .colab-df-container {\n",
              "      display:flex;\n",
              "      flex-wrap:wrap;\n",
              "      gap: 12px;\n",
              "    }\n",
              "\n",
              "    .colab-df-convert {\n",
              "      background-color: #E8F0FE;\n",
              "      border: none;\n",
              "      border-radius: 50%;\n",
              "      cursor: pointer;\n",
              "      display: none;\n",
              "      fill: #1967D2;\n",
              "      height: 32px;\n",
              "      padding: 0 0 0 0;\n",
              "      width: 32px;\n",
              "    }\n",
              "\n",
              "    .colab-df-convert:hover {\n",
              "      background-color: #E2EBFA;\n",
              "      box-shadow: 0px 1px 2px rgba(60, 64, 67, 0.3), 0px 1px 3px 1px rgba(60, 64, 67, 0.15);\n",
              "      fill: #174EA6;\n",
              "    }\n",
              "\n",
              "    [theme=dark] .colab-df-convert {\n",
              "      background-color: #3B4455;\n",
              "      fill: #D2E3FC;\n",
              "    }\n",
              "\n",
              "    [theme=dark] .colab-df-convert:hover {\n",
              "      background-color: #434B5C;\n",
              "      box-shadow: 0px 1px 3px 1px rgba(0, 0, 0, 0.15);\n",
              "      filter: drop-shadow(0px 1px 2px rgba(0, 0, 0, 0.3));\n",
              "      fill: #FFFFFF;\n",
              "    }\n",
              "  </style>\n",
              "\n",
              "      <script>\n",
              "        const buttonEl =\n",
              "          document.querySelector('#df-1a144b6f-dda9-4fec-a6de-c75ee5d051e2 button.colab-df-convert');\n",
              "        buttonEl.style.display =\n",
              "          google.colab.kernel.accessAllowed ? 'block' : 'none';\n",
              "\n",
              "        async function convertToInteractive(key) {\n",
              "          const element = document.querySelector('#df-1a144b6f-dda9-4fec-a6de-c75ee5d051e2');\n",
              "          const dataTable =\n",
              "            await google.colab.kernel.invokeFunction('convertToInteractive',\n",
              "                                                     [key], {});\n",
              "          if (!dataTable) return;\n",
              "\n",
              "          const docLinkHtml = 'Like what you see? Visit the ' +\n",
              "            '<a target=\"_blank\" href=https://colab.research.google.com/notebooks/data_table.ipynb>data table notebook</a>'\n",
              "            + ' to learn more about interactive tables.';\n",
              "          element.innerHTML = '';\n",
              "          dataTable['output_type'] = 'display_data';\n",
              "          await google.colab.output.renderOutput(dataTable, element);\n",
              "          const docLink = document.createElement('div');\n",
              "          docLink.innerHTML = docLinkHtml;\n",
              "          element.appendChild(docLink);\n",
              "        }\n",
              "      </script>\n",
              "    </div>\n",
              "  </div>\n",
              "  "
            ]
          },
          "metadata": {},
          "execution_count": 46
        }
      ]
    },
    {
      "cell_type": "code",
      "source": [
        "df['output']=df['output'].map({'Negative':-1,'Neutral':0,'Positive':1})\n",
        "df"
      ],
      "metadata": {
        "colab": {
          "base_uri": "https://localhost:8080/",
          "height": 424
        },
        "id": "dCme84tLaOa6",
        "outputId": "c86a673f-1ea3-4569-83be-56974c552120"
      },
      "execution_count": 47,
      "outputs": [
        {
          "output_type": "execute_result",
          "data": {
            "text/plain": [
              "     output                                       comment_text\n",
              "0         0  BBC News - Amazon boss Jeff Bezos rejects clai...\n",
              "1        -1  @Microsoft Why do I pay for WORD when it funct...\n",
              "2        -1  CSGO matchmaking is so full of closet hacking,...\n",
              "3         0  Now the President is slapping Americans in the...\n",
              "4        -1  Hi @EAHelp Iâve had Madeleine McCann in my c...\n",
              "..      ...                                                ...\n",
              "823      -1  Please explain how this is possible! How can t...\n",
              "824       1  Good on Sony. As much as I want to see the new...\n",
              "825       1  Today sucked so itâs time to drink wine n pl...\n",
              "826       1  Bought a fraction of Microsoft today. Small wins.\n",
              "827       0  Johnson & Johnson to stop selling talc baby po...\n",
              "\n",
              "[828 rows x 2 columns]"
            ],
            "text/html": [
              "\n",
              "  <div id=\"df-84f21ad2-7281-41a3-9409-be81dfd98871\">\n",
              "    <div class=\"colab-df-container\">\n",
              "      <div>\n",
              "<style scoped>\n",
              "    .dataframe tbody tr th:only-of-type {\n",
              "        vertical-align: middle;\n",
              "    }\n",
              "\n",
              "    .dataframe tbody tr th {\n",
              "        vertical-align: top;\n",
              "    }\n",
              "\n",
              "    .dataframe thead th {\n",
              "        text-align: right;\n",
              "    }\n",
              "</style>\n",
              "<table border=\"1\" class=\"dataframe\">\n",
              "  <thead>\n",
              "    <tr style=\"text-align: right;\">\n",
              "      <th></th>\n",
              "      <th>output</th>\n",
              "      <th>comment_text</th>\n",
              "    </tr>\n",
              "  </thead>\n",
              "  <tbody>\n",
              "    <tr>\n",
              "      <th>0</th>\n",
              "      <td>0</td>\n",
              "      <td>BBC News - Amazon boss Jeff Bezos rejects clai...</td>\n",
              "    </tr>\n",
              "    <tr>\n",
              "      <th>1</th>\n",
              "      <td>-1</td>\n",
              "      <td>@Microsoft Why do I pay for WORD when it funct...</td>\n",
              "    </tr>\n",
              "    <tr>\n",
              "      <th>2</th>\n",
              "      <td>-1</td>\n",
              "      <td>CSGO matchmaking is so full of closet hacking,...</td>\n",
              "    </tr>\n",
              "    <tr>\n",
              "      <th>3</th>\n",
              "      <td>0</td>\n",
              "      <td>Now the President is slapping Americans in the...</td>\n",
              "    </tr>\n",
              "    <tr>\n",
              "      <th>4</th>\n",
              "      <td>-1</td>\n",
              "      <td>Hi @EAHelp Iâve had Madeleine McCann in my c...</td>\n",
              "    </tr>\n",
              "    <tr>\n",
              "      <th>...</th>\n",
              "      <td>...</td>\n",
              "      <td>...</td>\n",
              "    </tr>\n",
              "    <tr>\n",
              "      <th>823</th>\n",
              "      <td>-1</td>\n",
              "      <td>Please explain how this is possible! How can t...</td>\n",
              "    </tr>\n",
              "    <tr>\n",
              "      <th>824</th>\n",
              "      <td>1</td>\n",
              "      <td>Good on Sony. As much as I want to see the new...</td>\n",
              "    </tr>\n",
              "    <tr>\n",
              "      <th>825</th>\n",
              "      <td>1</td>\n",
              "      <td>Today sucked so itâs time to drink wine n pl...</td>\n",
              "    </tr>\n",
              "    <tr>\n",
              "      <th>826</th>\n",
              "      <td>1</td>\n",
              "      <td>Bought a fraction of Microsoft today. Small wins.</td>\n",
              "    </tr>\n",
              "    <tr>\n",
              "      <th>827</th>\n",
              "      <td>0</td>\n",
              "      <td>Johnson &amp; Johnson to stop selling talc baby po...</td>\n",
              "    </tr>\n",
              "  </tbody>\n",
              "</table>\n",
              "<p>828 rows × 2 columns</p>\n",
              "</div>\n",
              "      <button class=\"colab-df-convert\" onclick=\"convertToInteractive('df-84f21ad2-7281-41a3-9409-be81dfd98871')\"\n",
              "              title=\"Convert this dataframe to an interactive table.\"\n",
              "              style=\"display:none;\">\n",
              "        \n",
              "  <svg xmlns=\"http://www.w3.org/2000/svg\" height=\"24px\"viewBox=\"0 0 24 24\"\n",
              "       width=\"24px\">\n",
              "    <path d=\"M0 0h24v24H0V0z\" fill=\"none\"/>\n",
              "    <path d=\"M18.56 5.44l.94 2.06.94-2.06 2.06-.94-2.06-.94-.94-2.06-.94 2.06-2.06.94zm-11 1L8.5 8.5l.94-2.06 2.06-.94-2.06-.94L8.5 2.5l-.94 2.06-2.06.94zm10 10l.94 2.06.94-2.06 2.06-.94-2.06-.94-.94-2.06-.94 2.06-2.06.94z\"/><path d=\"M17.41 7.96l-1.37-1.37c-.4-.4-.92-.59-1.43-.59-.52 0-1.04.2-1.43.59L10.3 9.45l-7.72 7.72c-.78.78-.78 2.05 0 2.83L4 21.41c.39.39.9.59 1.41.59.51 0 1.02-.2 1.41-.59l7.78-7.78 2.81-2.81c.8-.78.8-2.07 0-2.86zM5.41 20L4 18.59l7.72-7.72 1.47 1.35L5.41 20z\"/>\n",
              "  </svg>\n",
              "      </button>\n",
              "      \n",
              "  <style>\n",
              "    .colab-df-container {\n",
              "      display:flex;\n",
              "      flex-wrap:wrap;\n",
              "      gap: 12px;\n",
              "    }\n",
              "\n",
              "    .colab-df-convert {\n",
              "      background-color: #E8F0FE;\n",
              "      border: none;\n",
              "      border-radius: 50%;\n",
              "      cursor: pointer;\n",
              "      display: none;\n",
              "      fill: #1967D2;\n",
              "      height: 32px;\n",
              "      padding: 0 0 0 0;\n",
              "      width: 32px;\n",
              "    }\n",
              "\n",
              "    .colab-df-convert:hover {\n",
              "      background-color: #E2EBFA;\n",
              "      box-shadow: 0px 1px 2px rgba(60, 64, 67, 0.3), 0px 1px 3px 1px rgba(60, 64, 67, 0.15);\n",
              "      fill: #174EA6;\n",
              "    }\n",
              "\n",
              "    [theme=dark] .colab-df-convert {\n",
              "      background-color: #3B4455;\n",
              "      fill: #D2E3FC;\n",
              "    }\n",
              "\n",
              "    [theme=dark] .colab-df-convert:hover {\n",
              "      background-color: #434B5C;\n",
              "      box-shadow: 0px 1px 3px 1px rgba(0, 0, 0, 0.15);\n",
              "      filter: drop-shadow(0px 1px 2px rgba(0, 0, 0, 0.3));\n",
              "      fill: #FFFFFF;\n",
              "    }\n",
              "  </style>\n",
              "\n",
              "      <script>\n",
              "        const buttonEl =\n",
              "          document.querySelector('#df-84f21ad2-7281-41a3-9409-be81dfd98871 button.colab-df-convert');\n",
              "        buttonEl.style.display =\n",
              "          google.colab.kernel.accessAllowed ? 'block' : 'none';\n",
              "\n",
              "        async function convertToInteractive(key) {\n",
              "          const element = document.querySelector('#df-84f21ad2-7281-41a3-9409-be81dfd98871');\n",
              "          const dataTable =\n",
              "            await google.colab.kernel.invokeFunction('convertToInteractive',\n",
              "                                                     [key], {});\n",
              "          if (!dataTable) return;\n",
              "\n",
              "          const docLinkHtml = 'Like what you see? Visit the ' +\n",
              "            '<a target=\"_blank\" href=https://colab.research.google.com/notebooks/data_table.ipynb>data table notebook</a>'\n",
              "            + ' to learn more about interactive tables.';\n",
              "          element.innerHTML = '';\n",
              "          dataTable['output_type'] = 'display_data';\n",
              "          await google.colab.output.renderOutput(dataTable, element);\n",
              "          const docLink = document.createElement('div');\n",
              "          docLink.innerHTML = docLinkHtml;\n",
              "          element.appendChild(docLink);\n",
              "        }\n",
              "      </script>\n",
              "    </div>\n",
              "  </div>\n",
              "  "
            ]
          },
          "metadata": {},
          "execution_count": 47
        }
      ]
    },
    {
      "cell_type": "markdown",
      "source": [
        "**Preprocessing the data**"
      ],
      "metadata": {
        "id": "qs9NUu_Yil0x"
      }
    },
    {
      "cell_type": "code",
      "source": [
        "#importing necessary nlp libraries\n",
        "nltk.download('stopwords')\n",
        "nltk.download('wordnet')\n",
        "nltk.download('omw-1.4')\n",
        "nltk.download('punkt')\n"
      ],
      "metadata": {
        "colab": {
          "base_uri": "https://localhost:8080/"
        },
        "id": "oKI1m2xwaOeh",
        "outputId": "4f13bcef-212f-42dd-9fae-fdbba3a8bd42"
      },
      "execution_count": 48,
      "outputs": [
        {
          "output_type": "stream",
          "name": "stderr",
          "text": [
            "[nltk_data] Downloading package stopwords to /root/nltk_data...\n",
            "[nltk_data]   Package stopwords is already up-to-date!\n",
            "[nltk_data] Downloading package wordnet to /root/nltk_data...\n",
            "[nltk_data]   Package wordnet is already up-to-date!\n",
            "[nltk_data] Downloading package omw-1.4 to /root/nltk_data...\n",
            "[nltk_data]   Package omw-1.4 is already up-to-date!\n",
            "[nltk_data] Downloading package punkt to /root/nltk_data...\n",
            "[nltk_data]   Package punkt is already up-to-date!\n"
          ]
        },
        {
          "output_type": "execute_result",
          "data": {
            "text/plain": [
              "True"
            ]
          },
          "metadata": {},
          "execution_count": 48
        }
      ]
    },
    {
      "cell_type": "code",
      "source": [
        "tweets=df.comment_text\n",
        "tweets"
      ],
      "metadata": {
        "colab": {
          "base_uri": "https://localhost:8080/"
        },
        "id": "Lx0g6A0pc9iI",
        "outputId": "9250aab8-24b6-410a-87e7-d5ae5453d20f"
      },
      "execution_count": 49,
      "outputs": [
        {
          "output_type": "execute_result",
          "data": {
            "text/plain": [
              "0      BBC News - Amazon boss Jeff Bezos rejects clai...\n",
              "1      @Microsoft Why do I pay for WORD when it funct...\n",
              "2      CSGO matchmaking is so full of closet hacking,...\n",
              "3      Now the President is slapping Americans in the...\n",
              "4      Hi @EAHelp Iâve had Madeleine McCann in my c...\n",
              "                             ...                        \n",
              "823    Please explain how this is possible! How can t...\n",
              "824    Good on Sony. As much as I want to see the new...\n",
              "825    Today sucked so itâs time to drink wine n pl...\n",
              "826    Bought a fraction of Microsoft today. Small wins.\n",
              "827    Johnson & Johnson to stop selling talc baby po...\n",
              "Name: comment_text, Length: 828, dtype: object"
            ]
          },
          "metadata": {},
          "execution_count": 49
        }
      ]
    },
    {
      "cell_type": "code",
      "source": [
        "#Tokenisation\n",
        "from nltk import TweetTokenizer\n",
        "tk=TweetTokenizer()\n",
        "tweets=tweets.apply(lambda x:tk.tokenize(x)).apply(lambda x:\" \".join(x))\n",
        "tweets"
      ],
      "metadata": {
        "colab": {
          "base_uri": "https://localhost:8080/"
        },
        "id": "NKQAlbZrdIAe",
        "outputId": "834749e1-78ce-403c-845f-86e312029617"
      },
      "execution_count": 50,
      "outputs": [
        {
          "output_type": "execute_result",
          "data": {
            "text/plain": [
              "0      BBC News - Amazon boss Jeff Bezos rejects clai...\n",
              "1      @Microsoft Why do I pay for WORD when it funct...\n",
              "2      CSGO matchmaking is so full of closet hacking ...\n",
              "3      Now the President is slapping Americans in the...\n",
              "4      Hi @EAHelp Iâ   ve had Madeleine McCann in m...\n",
              "                             ...                        \n",
              "823    Please explain how this is possible ! How can ...\n",
              "824    Good on Sony . As much as I want to see the ne...\n",
              "825    Today sucked so itâ   s time to drink wine n...\n",
              "826    Bought a fraction of Microsoft today . Small w...\n",
              "827    Johnson & Johnson to stop selling talc baby po...\n",
              "Name: comment_text, Length: 828, dtype: object"
            ]
          },
          "metadata": {},
          "execution_count": 50
        }
      ]
    },
    {
      "cell_type": "code",
      "source": [
        "tweets=tweets.str.replace('[^a-zA-Z0-9]+',' ')\n",
        "tweets"
      ],
      "metadata": {
        "colab": {
          "base_uri": "https://localhost:8080/"
        },
        "id": "jPahfb26fYlU",
        "outputId": "a3dfc21c-f3bd-434c-ddc0-cbd498dfbe5b"
      },
      "execution_count": 51,
      "outputs": [
        {
          "output_type": "stream",
          "name": "stderr",
          "text": [
            "<ipython-input-51-243a49c37bfd>:1: FutureWarning: The default value of regex will change from True to False in a future version.\n",
            "  tweets=tweets.str.replace('[^a-zA-Z0-9]+',' ')\n"
          ]
        },
        {
          "output_type": "execute_result",
          "data": {
            "text/plain": [
              "0      BBC News Amazon boss Jeff Bezos rejects claims...\n",
              "1       Microsoft Why do I pay for WORD when it funct...\n",
              "2      CSGO matchmaking is so full of closet hacking ...\n",
              "3      Now the President is slapping Americans in the...\n",
              "4      Hi EAHelp I ve had Madeleine McCann in my cell...\n",
              "                             ...                        \n",
              "823    Please explain how this is possible How can th...\n",
              "824    Good on Sony As much as I want to see the new ...\n",
              "825    Today sucked so it s time to drink wine n play...\n",
              "826     Bought a fraction of Microsoft today Small wins \n",
              "827    Johnson Johnson to stop selling talc baby powd...\n",
              "Name: comment_text, Length: 828, dtype: object"
            ]
          },
          "metadata": {},
          "execution_count": 51
        }
      ]
    },
    {
      "cell_type": "code",
      "source": [
        "from nltk.tokenize import word_tokenize\n",
        "tweets=tweets.apply(lambda x:' '.join([w for w in word_tokenize(x) if len(w)>=3]))\n",
        "tweets"
      ],
      "metadata": {
        "colab": {
          "base_uri": "https://localhost:8080/"
        },
        "id": "2s2pmvPIitQh",
        "outputId": "f14a0c2e-15c3-4346-96df-ad3660e41a74"
      },
      "execution_count": 52,
      "outputs": [
        {
          "output_type": "execute_result",
          "data": {
            "text/plain": [
              "0      BBC News Amazon boss Jeff Bezos rejects claims...\n",
              "1      Microsoft Why pay for WORD when functions poor...\n",
              "2      CSGO matchmaking full closet hacking truly awf...\n",
              "3      Now the President slapping Americans the face ...\n",
              "4      EAHelp had Madeleine McCann cellar for the pas...\n",
              "                             ...                        \n",
              "823    Please explain how this possible How can they ...\n",
              "824    Good Sony much want see the new PS5 what going...\n",
              "825    Today sucked time drink wine play borderlands ...\n",
              "826           Bought fraction Microsoft today Small wins\n",
              "827    Johnson Johnson stop selling talc baby powder ...\n",
              "Name: comment_text, Length: 828, dtype: object"
            ]
          },
          "metadata": {},
          "execution_count": 52
        }
      ]
    },
    {
      "cell_type": "code",
      "source": [
        "#Stemming\n",
        "from nltk.stem import SnowballStemmer\n",
        "from nltk.tokenize import word_tokenize\n",
        "ss=SnowballStemmer('english')\n",
        "#for i in tweets:\n",
        "# print(ss.stem(i.lower()))\n",
        "tweets=tweets.apply(lambda x:[ss.stem(i.lower()) for i in tk.tokenize(x)]).apply(lambda x:\" \".join(x))\n",
        "tweets"
      ],
      "metadata": {
        "colab": {
          "base_uri": "https://localhost:8080/"
        },
        "id": "z4qHfsiEcQW-",
        "outputId": "91f3bc9c-2302-4f59-8bb0-557901a49c04"
      },
      "execution_count": 53,
      "outputs": [
        {
          "output_type": "execute_result",
          "data": {
            "text/plain": [
              "0      bbc news amazon boss jeff bezo reject claim co...\n",
              "1      microsoft whi pay for word when function poor ...\n",
              "2           csgo matchmak full closet hack truli aw game\n",
              "3      now the presid slap american the face that rea...\n",
              "4      eahelp had madelein mccann cellar for the past...\n",
              "                             ...                        \n",
              "823    pleas explain how this possibl how can they le...\n",
              "824    good soni much want see the new ps5 what go ri...\n",
              "825    today suck time drink wine play borderland unt...\n",
              "826            bought fraction microsoft today small win\n",
              "827    johnson johnson stop sell talc babi powder and...\n",
              "Name: comment_text, Length: 828, dtype: object"
            ]
          },
          "metadata": {},
          "execution_count": 53
        }
      ]
    },
    {
      "cell_type": "code",
      "source": [
        "#Removing Stopwords\n",
        "from nltk.corpus import stopwords\n",
        "data_stopwords=stopwords.words('english')\n",
        "tweets=tweets.apply(lambda x:[i for i in tk.tokenize(x) if not i in data_stopwords]).apply(lambda x:\" \".join(x))\n",
        "tweets"
      ],
      "metadata": {
        "colab": {
          "base_uri": "https://localhost:8080/"
        },
        "id": "H77pHH5sfmZr",
        "outputId": "5cb74673-c5e8-4281-bbab-af1381dd7f98"
      },
      "execution_count": 54,
      "outputs": [
        {
          "output_type": "execute_result",
          "data": {
            "text/plain": [
              "0      bbc news amazon boss jeff bezo reject claim co...\n",
              "1      microsoft whi pay word function poor samsungus...\n",
              "2           csgo matchmak full closet hack truli aw game\n",
              "3      presid slap american face realli commit unlaw ...\n",
              "4      eahelp madelein mccann cellar past year littl ...\n",
              "                             ...                        \n",
              "823    pleas explain possibl let compani overcharg sc...\n",
              "824    good soni much want see new ps5 go right much ...\n",
              "825    today suck time drink wine play borderland sun...\n",
              "826            bought fraction microsoft today small win\n",
              "827    johnson johnson stop sell talc babi powder can...\n",
              "Name: comment_text, Length: 828, dtype: object"
            ]
          },
          "metadata": {},
          "execution_count": 54
        }
      ]
    },
    {
      "cell_type": "code",
      "source": [
        "#Vectorization\n",
        "from sklearn.feature_extraction.text import TfidfVectorizer\n",
        "vec=TfidfVectorizer()\n",
        "train=vec.fit_transform(tweets)\n",
        "print(train)"
      ],
      "metadata": {
        "colab": {
          "base_uri": "https://localhost:8080/"
        },
        "id": "27lBorKZh9HV",
        "outputId": "edf9ff9c-d834-468a-8b8b-2f170a7e5b48"
      },
      "execution_count": 55,
      "outputs": [
        {
          "output_type": "stream",
          "name": "stdout",
          "text": [
            "  (0, 691)\t0.2608257828483461\n",
            "  (0, 1004)\t0.2608257828483461\n",
            "  (0, 1130)\t0.23509805002803952\n",
            "  (0, 1996)\t0.13277165480466424\n",
            "  (0, 309)\t0.22681557001542715\n",
            "  (0, 860)\t0.17354914655342313\n",
            "  (0, 807)\t0.21432663830218204\n",
            "  (0, 2761)\t0.2608257828483461\n",
            "  (0, 568)\t0.2608257828483461\n",
            "  (0, 1833)\t0.24577602391989378\n",
            "  (0, 633)\t0.22681557001542715\n",
            "  (0, 376)\t0.1515362387424402\n",
            "  (0, 2287)\t0.38864111655856126\n",
            "  (0, 538)\t0.49155204783978756\n",
            "  (1, 797)\t0.4055823664694651\n",
            "  (1, 2891)\t0.4055823664694651\n",
            "  (1, 2558)\t0.3821800909185634\n",
            "  (1, 1405)\t0.4055823664694651\n",
            "  (1, 3679)\t0.36557591217188057\n",
            "  (1, 2462)\t0.3126902562590763\n",
            "  (1, 3639)\t0.26216072802580975\n",
            "  (1, 2155)\t0.24555654927912696\n",
            "  (2, 1427)\t0.1689251539717079\n",
            "  (2, 486)\t0.36574263611909275\n",
            "  (2, 3432)\t0.36574263611909275\n",
            "  :\t:\n",
            "  (825, 3393)\t0.3395996844494919\n",
            "  (825, 3383)\t0.2560582225152134\n",
            "  (825, 631)\t0.22981061112100945\n",
            "  (825, 997)\t0.2315686698425631\n",
            "  (825, 3373)\t0.21750175079084832\n",
            "  (825, 3226)\t0.2904718522758868\n",
            "  (825, 2527)\t0.17148706662740873\n",
            "  (826, 1381)\t0.5079831062080814\n",
            "  (826, 3070)\t0.47867226429410115\n",
            "  (826, 636)\t0.4174215841659411\n",
            "  (826, 3650)\t0.353278941165688\n",
            "  (826, 3383)\t0.34523850330234374\n",
            "  (826, 2155)\t0.3075542453642147\n",
            "  (827, 195)\t0.3283693467320579\n",
            "  (827, 1132)\t0.3283693467320579\n",
            "  (827, 2808)\t0.3283693467320579\n",
            "  (827, 143)\t0.3283693467320579\n",
            "  (827, 712)\t0.2770320970909926\n",
            "  (827, 2946)\t0.2635889502019104\n",
            "  (827, 3274)\t0.2635889502019104\n",
            "  (827, 3193)\t0.2311987519368367\n",
            "  (827, 1686)\t0.15963411936668057\n",
            "  (827, 2576)\t0.24870786898500463\n",
            "  (827, 506)\t0.23743856420618148\n",
            "  (827, 1854)\t0.3947412386878786\n"
          ]
        }
      ]
    },
    {
      "cell_type": "code",
      "source": [
        "y=df['output'].values\n",
        "y"
      ],
      "metadata": {
        "colab": {
          "base_uri": "https://localhost:8080/"
        },
        "id": "HnWH03BElMbC",
        "outputId": "ff132a7c-3b31-4ea7-ea48-4f724905e2a5"
      },
      "execution_count": 56,
      "outputs": [
        {
          "output_type": "execute_result",
          "data": {
            "text/plain": [
              "array([ 0, -1, -1,  0, -1,  1,  1,  1, -1,  1,  1, -1,  0, -1,  1,  1, -1,\n",
              "        1, -1, -1,  0, -1,  0,  0, -1, -1,  1,  1, -1,  1, -1,  0,  0,  1,\n",
              "        0,  1,  0,  0,  0,  1,  0, -1, -1, -1,  0,  1, -1, -1,  1,  1,  1,\n",
              "        1,  1, -1, -1,  1,  1, -1,  0, -1,  0, -1,  1, -1, -1,  1,  1,  1,\n",
              "        0,  0,  0,  1,  1,  0,  1,  0, -1, -1,  0,  0, -1,  1, -1, -1, -1,\n",
              "        0,  1,  0, -1,  1,  1,  0,  1,  0,  1, -1,  0,  0,  0, -1,  0, -1,\n",
              "        0,  0,  1,  1,  0, -1, -1,  1, -1,  0, -1,  1,  0, -1,  0,  1,  0,\n",
              "        1,  1,  0,  0,  0,  0,  1,  0,  1,  1, -1,  0,  0,  0,  0, -1,  0,\n",
              "        1, -1,  0, -1,  0, -1, -1, -1,  1,  1,  1,  0,  0,  1,  0,  0,  0,\n",
              "        1,  0, -1, -1,  0,  1,  1,  0,  1,  1,  0,  0, -1, -1, -1, -1,  1,\n",
              "        0,  0,  1,  1,  1,  1, -1,  1,  1,  0, -1, -1, -1,  1,  1, -1, -1,\n",
              "        1,  1, -1,  1,  1, -1,  1,  0, -1,  0,  0,  1, -1,  1,  1,  0,  1,\n",
              "       -1, -1,  1,  1,  1,  1,  0,  0,  1, -1,  0,  1,  0, -1,  0,  0, -1,\n",
              "        1,  1, -1,  0,  1,  0, -1,  0, -1,  1,  1, -1, -1, -1,  1, -1,  0,\n",
              "        1,  0,  0, -1,  1, -1,  1, -1,  0,  0,  1, -1,  0, -1,  1, -1,  1,\n",
              "        1,  1,  1,  1,  1, -1, -1,  1, -1,  0,  0,  0,  1,  0,  1, -1,  0,\n",
              "        0,  0,  0, -1,  1, -1, -1,  1,  1,  0,  0, -1, -1, -1,  0,  1,  0,\n",
              "       -1,  1,  0, -1, -1, -1,  1,  0,  0, -1,  1,  1,  0,  1,  0,  0,  1,\n",
              "        1, -1,  0,  1, -1,  0, -1, -1,  1,  1,  1,  1,  0, -1,  0,  1,  0,\n",
              "        1, -1, -1, -1,  1,  0,  1, -1,  0, -1,  1,  1,  1,  1,  0,  0,  0,\n",
              "       -1,  1,  1,  0, -1,  1,  0, -1, -1, -1, -1, -1,  0,  0,  0,  1,  1,\n",
              "       -1, -1,  0, -1,  0,  0, -1,  1, -1,  1,  1,  1,  0,  1,  0,  0, -1,\n",
              "        1,  0,  0,  0,  0,  0,  0,  0,  0, -1, -1,  1,  1,  0, -1, -1,  1,\n",
              "        1, -1,  1,  1,  1,  1,  1,  0, -1,  1,  0,  0,  1,  1,  1,  1,  0,\n",
              "       -1, -1, -1, -1,  0,  1, -1, -1,  1,  1,  0,  0, -1, -1,  1,  0, -1,\n",
              "       -1, -1,  0,  0,  1, -1, -1, -1,  0,  0,  0, -1, -1,  1, -1,  0, -1,\n",
              "        0,  1, -1,  0,  1,  1, -1,  0,  0,  1, -1, -1,  0,  0, -1,  1, -1,\n",
              "        0, -1, -1, -1,  1, -1,  1, -1,  1, -1, -1,  0, -1,  0, -1,  1, -1,\n",
              "        0, -1, -1,  0,  0,  1, -1,  1,  0,  0,  0,  0, -1,  0,  0,  0, -1,\n",
              "       -1,  0,  1,  0,  0, -1,  0,  1,  0,  0,  0,  0,  0,  1,  0,  1,  1,\n",
              "        1,  0, -1,  1,  0,  0, -1,  1,  0,  0, -1,  0, -1,  0,  1, -1,  1,\n",
              "       -1, -1,  0,  0,  0,  0,  1,  1,  1, -1, -1,  0,  1,  0,  0, -1,  1,\n",
              "        1,  0,  1, -1, -1,  0,  1, -1,  1, -1,  0,  1,  1,  0,  0,  0,  1,\n",
              "        0, -1,  0,  0, -1,  1, -1,  0,  1,  1,  1,  1,  0, -1,  0,  1,  1,\n",
              "        1,  1,  1, -1,  0,  1,  0,  0, -1, -1, -1,  0,  1,  0, -1,  1,  1,\n",
              "        1,  0,  1, -1,  0, -1,  0, -1,  0,  0,  1, -1,  1,  1,  0, -1,  0,\n",
              "       -1, -1, -1, -1,  1,  1,  1,  1,  0, -1, -1,  1, -1, -1,  0,  0,  1,\n",
              "        0, -1,  0,  1, -1,  0,  1, -1,  0,  0,  1, -1,  0, -1,  1,  1,  0,\n",
              "        1,  0,  1, -1,  0,  0,  0,  1,  0,  0, -1,  1,  0, -1, -1,  0,  0,\n",
              "        1, -1, -1, -1, -1,  1,  0,  0,  1,  0, -1,  1,  1, -1,  1,  1,  0,\n",
              "       -1,  0,  1,  1, -1, -1, -1,  1, -1,  0, -1,  0,  0,  1,  1, -1,  0,\n",
              "        1, -1, -1, -1, -1, -1, -1, -1, -1,  0, -1,  0,  0,  0,  1,  0,  0,\n",
              "        0, -1,  0,  1,  0, -1, -1,  1,  0,  1,  0,  1,  0, -1,  1,  1,  1,\n",
              "        1, -1, -1,  1,  0,  0,  0,  0,  0,  0, -1, -1, -1, -1,  1, -1,  0,\n",
              "        1,  0, -1,  1,  1, -1,  1,  0,  0,  1, -1,  0, -1,  0,  1,  1,  0,\n",
              "       -1,  1, -1, -1,  0, -1,  0, -1,  1,  0, -1, -1,  1,  1, -1,  0, -1,\n",
              "        0,  0,  0,  0,  0,  0,  1,  0,  1,  1,  1, -1,  0,  1,  0,  1,  0,\n",
              "        1,  0,  1,  0, -1, -1,  1,  1,  1,  1,  0, -1,  1,  1, -1, -1, -1,\n",
              "        0,  1,  0,  1,  1,  0,  1, -1,  1,  1,  1,  0])"
            ]
          },
          "metadata": {},
          "execution_count": 56
        }
      ]
    },
    {
      "cell_type": "markdown",
      "source": [
        "**Model Creation**"
      ],
      "metadata": {
        "id": "pbd_m-R9jAvo"
      }
    },
    {
      "cell_type": "code",
      "source": [
        "from sklearn.model_selection import train_test_split\n",
        "xtrain,xtest,ytrain,ytest=train_test_split(train,y,test_size=0.3,random_state=42)\n",
        "xtrain"
      ],
      "metadata": {
        "colab": {
          "base_uri": "https://localhost:8080/"
        },
        "id": "0FxJIpalmmMe",
        "outputId": "1ed8725e-89e9-46f8-b2ee-38308af47ea1"
      },
      "execution_count": 57,
      "outputs": [
        {
          "output_type": "execute_result",
          "data": {
            "text/plain": [
              "<579x3783 sparse matrix of type '<class 'numpy.float64'>'\n",
              "\twith 7250 stored elements in Compressed Sparse Row format>"
            ]
          },
          "metadata": {},
          "execution_count": 57
        }
      ]
    },
    {
      "cell_type": "code",
      "source": [
        "xtest"
      ],
      "metadata": {
        "colab": {
          "base_uri": "https://localhost:8080/"
        },
        "id": "vQaOe5LknMSX",
        "outputId": "1b67d971-1d62-4adb-f64a-bfbe579035c7"
      },
      "execution_count": 58,
      "outputs": [
        {
          "output_type": "execute_result",
          "data": {
            "text/plain": [
              "<249x3783 sparse matrix of type '<class 'numpy.float64'>'\n",
              "\twith 3255 stored elements in Compressed Sparse Row format>"
            ]
          },
          "metadata": {},
          "execution_count": 58
        }
      ]
    },
    {
      "cell_type": "code",
      "source": [
        "from sklearn.neighbors import KNeighborsClassifier\n",
        "from sklearn.naive_bayes import MultinomialNB\n",
        "from sklearn.svm import SVC\n",
        "from sklearn.metrics import classification_report,confusion_matrix,accuracy_score,ConfusionMatrixDisplay\n",
        "from sklearn.tree import DecisionTreeClassifier\n",
        "from sklearn.ensemble import RandomForestClassifier\n",
        "models=[SVC(),KNeighborsClassifier(n_neighbors=5),MultinomialNB(),RandomForestClassifier(),DecisionTreeClassifier()]\n",
        "for model in models:\n",
        "  model.fit(xtrain,ytrain)\n",
        "  ypred=model.predict(xtest)\n",
        "  score=accuracy_score(ytest,ypred)*100\n",
        "  print(\"{}: {}\".format(model,score),end=\"\\n\\n\")"
      ],
      "metadata": {
        "colab": {
          "base_uri": "https://localhost:8080/"
        },
        "id": "DVn3rstsnTOV",
        "outputId": "2ec328fe-faa2-4f4a-bed4-a52ae9ef98ae"
      },
      "execution_count": 59,
      "outputs": [
        {
          "output_type": "stream",
          "name": "stdout",
          "text": [
            "SVC(): 58.23293172690763\n",
            "\n",
            "KNeighborsClassifier(): 44.97991967871486\n",
            "\n",
            "MultinomialNB(): 56.22489959839358\n",
            "\n",
            "RandomForestClassifier(): 54.61847389558233\n",
            "\n",
            "DecisionTreeClassifier(): 46.1847389558233\n",
            "\n"
          ]
        }
      ]
    },
    {
      "cell_type": "markdown",
      "source": [
        "Observation:\n",
        "Support Vector Classifier have high efficiency when compared to other algorithms"
      ],
      "metadata": {
        "id": "CxvOhXiyqiLl"
      }
    },
    {
      "cell_type": "code",
      "source": [
        "model=SVC()\n",
        "model.fit(xtrain,ytrain)\n",
        "ypred=model.predict(xtest)\n",
        "print(classification_report(ytest,ypred))"
      ],
      "metadata": {
        "colab": {
          "base_uri": "https://localhost:8080/"
        },
        "id": "Xa6LDkl9l9ET",
        "outputId": "0c64777b-432e-4b20-c787-afe1108431b9"
      },
      "execution_count": 60,
      "outputs": [
        {
          "output_type": "stream",
          "name": "stdout",
          "text": [
            "              precision    recall  f1-score   support\n",
            "\n",
            "          -1       0.67      0.52      0.59        79\n",
            "           0       0.46      0.76      0.57        79\n",
            "           1       0.76      0.48      0.59        91\n",
            "\n",
            "    accuracy                           0.58       249\n",
            "   macro avg       0.63      0.59      0.58       249\n",
            "weighted avg       0.64      0.58      0.58       249\n",
            "\n"
          ]
        }
      ]
    },
    {
      "cell_type": "code",
      "source": [
        "label=['0','-1','1']\n",
        "result=confusion_matrix(ytest,ypred)\n",
        "cmd=ConfusionMatrixDisplay(result,display_labels=label)\n",
        "cmd.plot()"
      ],
      "metadata": {
        "colab": {
          "base_uri": "https://localhost:8080/",
          "height": 300
        },
        "id": "OB_YF14ljFfj",
        "outputId": "f97a89e4-799d-400e-cc32-57b868bd756a"
      },
      "execution_count": 62,
      "outputs": [
        {
          "output_type": "execute_result",
          "data": {
            "text/plain": [
              "<sklearn.metrics._plot.confusion_matrix.ConfusionMatrixDisplay at 0x7f9d33d77c10>"
            ]
          },
          "metadata": {},
          "execution_count": 62
        },
        {
          "output_type": "display_data",
          "data": {
            "text/plain": [
              "<Figure size 432x288 with 2 Axes>"
            ],
            "image/png": "[encoded data removed]"
          },
          "metadata": {
            "needs_background": "light"
          }
        }
      ]
    }
  ]
}